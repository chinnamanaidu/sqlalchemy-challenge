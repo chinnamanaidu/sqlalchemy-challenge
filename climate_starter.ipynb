{
 "cells": [
  {
   "cell_type": "code",
   "execution_count": 1,
   "metadata": {},
   "outputs": [],
   "source": [
    "%matplotlib inline\n",
    "from matplotlib import style\n",
    "style.use('fivethirtyeight')\n",
    "import matplotlib.pyplot as plt"
   ]
  },
  {
   "cell_type": "code",
   "execution_count": 2,
   "metadata": {},
   "outputs": [],
   "source": [
    "import numpy as np\n",
    "import pandas as pd\n",
    "from flask import Flask, jsonify"
   ]
  },
  {
   "cell_type": "code",
   "execution_count": 3,
   "metadata": {},
   "outputs": [],
   "source": [
    "import datetime as dt"
   ]
  },
  {
   "cell_type": "markdown",
   "metadata": {},
   "source": [
    "# Reflect Tables into SQLAlchemy ORM"
   ]
  },
  {
   "cell_type": "code",
   "execution_count": 4,
   "metadata": {},
   "outputs": [],
   "source": [
    "# Python SQL toolkit and Object Relational Mapper\n",
    "import sqlalchemy\n",
    "from sqlalchemy.ext.automap import automap_base\n",
    "from sqlalchemy.orm import Session\n",
    "from sqlalchemy import create_engine, func, inspect"
   ]
  },
  {
   "cell_type": "code",
   "execution_count": 5,
   "metadata": {},
   "outputs": [
    {
     "data": {
      "text/plain": [
       "['measurement', 'station']"
      ]
     },
     "execution_count": 5,
     "metadata": {},
     "output_type": "execute_result"
    }
   ],
   "source": [
    "engine = create_engine(\"sqlite:///Resources/hawaii.sqlite\")\n",
    "# Reflect Database into ORM classes\n",
    "Base = automap_base()\n",
    "Base.prepare(engine, reflect=True)\n",
    "Base.classes.keys()"
   ]
  },
  {
   "cell_type": "code",
   "execution_count": 6,
   "metadata": {},
   "outputs": [
    {
     "data": {
      "text/plain": [
       "[(1, 'USC00519397', '2010-01-01', 0.08, 65.0),\n",
       " (2, 'USC00519397', '2010-01-02', 0.0, 63.0),\n",
       " (3, 'USC00519397', '2010-01-03', 0.0, 74.0),\n",
       " (4, 'USC00519397', '2010-01-04', 0.0, 76.0),\n",
       " (5, 'USC00519397', '2010-01-06', None, 73.0)]"
      ]
     },
     "execution_count": 6,
     "metadata": {},
     "output_type": "execute_result"
    }
   ],
   "source": [
    "engine.execute('SELECT * FROM measurement LIMIT 5').fetchall()"
   ]
  },
  {
   "cell_type": "code",
   "execution_count": 7,
   "metadata": {},
   "outputs": [
    {
     "data": {
      "text/plain": [
       "[(1, 'USC00519397', 'WAIKIKI 717.2, HI US', 21.2716, -157.8168, 3.0),\n",
       " (2, 'USC00513117', 'KANEOHE 838.1, HI US', 21.4234, -157.8015, 14.6),\n",
       " (3, 'USC00514830', 'KUALOA RANCH HEADQUARTERS 886.9, HI US', 21.5213, -157.8374, 7.0),\n",
       " (4, 'USC00517948', 'PEARL CITY, HI US', 21.3934, -157.9751, 11.9),\n",
       " (5, 'USC00518838', 'UPPER WAHIAWA 874.3, HI US', 21.4992, -158.0111, 306.6)]"
      ]
     },
     "execution_count": 7,
     "metadata": {},
     "output_type": "execute_result"
    }
   ],
   "source": [
    "engine.execute('SELECT * FROM station LIMIT 5').fetchall()"
   ]
  },
  {
   "cell_type": "code",
   "execution_count": 8,
   "metadata": {},
   "outputs": [
    {
     "name": "stdout",
     "output_type": "stream",
     "text": [
      "id INTEGER\n",
      "station TEXT\n",
      "date TEXT\n",
      "prcp FLOAT\n",
      "tobs FLOAT\n"
     ]
    }
   ],
   "source": [
    "inspector = inspect(engine)\n",
    "columns = inspector.get_columns('measurement')\n",
    "for c in columns:\n",
    "    print(c['name'], c[\"type\"])"
   ]
  },
  {
   "cell_type": "code",
   "execution_count": 9,
   "metadata": {},
   "outputs": [
    {
     "name": "stdout",
     "output_type": "stream",
     "text": [
      "id INTEGER\n",
      "station TEXT\n",
      "name TEXT\n",
      "latitude FLOAT\n",
      "longitude FLOAT\n",
      "elevation FLOAT\n"
     ]
    }
   ],
   "source": [
    "inspector = inspect(engine)\n",
    "columns = inspector.get_columns('station')\n",
    "for c in columns:\n",
    "    print(c['name'], c[\"type\"])"
   ]
  },
  {
   "cell_type": "code",
   "execution_count": 10,
   "metadata": {},
   "outputs": [],
   "source": [
    "# reflect an existing database into a new model\n",
    "\n",
    "# reflect the tables\n",
    "Measurement = Base.classes.measurement\n",
    "Station = Base.classes.station\n"
   ]
  },
  {
   "cell_type": "code",
   "execution_count": 11,
   "metadata": {},
   "outputs": [],
   "source": [
    "# We can view all of the classes that automap found\n"
   ]
  },
  {
   "cell_type": "code",
   "execution_count": 12,
   "metadata": {},
   "outputs": [],
   "source": [
    "# Save references to each table\n"
   ]
  },
  {
   "cell_type": "code",
   "execution_count": 13,
   "metadata": {},
   "outputs": [],
   "source": [
    "# Create our session (link) from Python to the DB\n",
    "session = Session(engine)"
   ]
  },
  {
   "cell_type": "markdown",
   "metadata": {},
   "source": [
    "# Exploratory Climate Analysis"
   ]
  },
  {
   "cell_type": "code",
   "execution_count": 14,
   "metadata": {},
   "outputs": [],
   "source": [
    "# Design a query to retrieve the last 12 months of precipitation data and plot the results\n",
    "\n",
    "# Calculate the date 1 year ago from the last data point in the database\n",
    "\n",
    "# Perform a query to retrieve the data and precipitation scores\n",
    "\n",
    "# Save the query results as a Pandas DataFrame and set the index to the date column\n",
    "\n",
    "# Sort the dataframe by date\n",
    "\n",
    "# Use Pandas Plotting with Matplotlib to plot the data\n"
   ]
  },
  {
   "cell_type": "code",
   "execution_count": 15,
   "metadata": {},
   "outputs": [
    {
     "data": {
      "text/plain": [
       "[('2010-01-01',)]"
      ]
     },
     "execution_count": 15,
     "metadata": {},
     "output_type": "execute_result"
    }
   ],
   "source": [
    "engine.execute('SELECT min(date) FROM measurement').fetchall()"
   ]
  },
  {
   "cell_type": "code",
   "execution_count": 16,
   "metadata": {},
   "outputs": [
    {
     "data": {
      "text/plain": [
       "[('2017-08-23',)]"
      ]
     },
     "execution_count": 16,
     "metadata": {},
     "output_type": "execute_result"
    }
   ],
   "source": [
    "engine.execute('SELECT max(date) FROM measurement').fetchall()"
   ]
  },
  {
   "cell_type": "code",
   "execution_count": 17,
   "metadata": {},
   "outputs": [
    {
     "data": {
      "text/plain": [
       "[(6.7,)]"
      ]
     },
     "execution_count": 17,
     "metadata": {},
     "output_type": "execute_result"
    }
   ],
   "source": [
    "engine.execute(\"SELECT max(Measurement.prcp) FROM measurement where Measurement.date > '2016-08-22'\").fetchall()"
   ]
  },
  {
   "cell_type": "code",
   "execution_count": 18,
   "metadata": {},
   "outputs": [
    {
     "data": {
      "text/plain": [
       "[('2016-08-23', 1.79),\n",
       " ('2016-08-24', 2.28),\n",
       " ('2016-08-25', 0.21),\n",
       " ('2016-08-26', 0.04),\n",
       " ('2016-08-27', 0.18),\n",
       " ('2016-08-28', 2.07),\n",
       " ('2016-08-29', 0.9),\n",
       " ('2016-08-30', 0.05),\n",
       " ('2016-08-31', 2.46),\n",
       " ('2016-09-01', 0.02),\n",
       " ('2016-09-02', 0.19),\n",
       " ('2016-09-03', 1.0),\n",
       " ('2016-09-04', 0.74),\n",
       " ('2016-09-05', 0.18),\n",
       " ('2016-09-06', 1.0),\n",
       " ('2016-09-07', 1.35),\n",
       " ('2016-09-08', 0.22),\n",
       " ('2016-09-09', 0.35),\n",
       " ('2016-09-10', 1.16),\n",
       " ('2016-09-11', 0.6),\n",
       " ('2016-09-12', 1.04),\n",
       " ('2016-09-13', 1.2),\n",
       " ('2016-09-14', 6.7),\n",
       " ('2016-09-15', 3.35),\n",
       " ('2016-09-16', 0.61),\n",
       " ('2016-09-17', 0.36),\n",
       " ('2016-09-18', 0.42),\n",
       " ('2016-09-19', 0.25),\n",
       " ('2016-09-20', 0.43),\n",
       " ('2016-09-21', 1.02),\n",
       " ('2016-09-22', 0.75),\n",
       " ('2016-09-23', 0.94),\n",
       " ('2016-09-24', 0.27),\n",
       " ('2016-09-25', 0.04),\n",
       " ('2016-09-26', 1.02),\n",
       " ('2016-09-27', 1.0),\n",
       " ('2016-09-28', 0.08),\n",
       " ('2016-09-29', 1.49),\n",
       " ('2016-09-30', 0.38),\n",
       " ('2016-10-01', 1.02),\n",
       " ('2016-10-02', 0.61),\n",
       " ('2016-10-03', 0.46),\n",
       " ('2016-10-04', 3.46),\n",
       " ('2016-10-05', 0.81),\n",
       " ('2016-10-06', 0.07),\n",
       " ('2016-10-07', 0.01),\n",
       " ('2016-10-08', 0.04),\n",
       " ('2016-10-09', 0.0),\n",
       " ('2016-10-10', 0.0),\n",
       " ('2016-10-11', 0.35),\n",
       " ('2016-10-12', 0.03),\n",
       " ('2016-10-13', 0.06),\n",
       " ('2016-10-14', 0.0),\n",
       " ('2016-10-15', 0.33),\n",
       " ('2016-10-16', 0.0),\n",
       " ('2016-10-17', 0.38),\n",
       " ('2016-10-18', 0.48),\n",
       " ('2016-10-19', 0.11),\n",
       " ('2016-10-20', 1.0),\n",
       " ('2016-10-21', 0.15),\n",
       " ('2016-10-22', 1.37),\n",
       " ('2016-10-23', 0.24),\n",
       " ('2016-10-24', 0.7),\n",
       " ('2016-10-25', 0.4),\n",
       " ('2016-10-26', 0.2),\n",
       " ('2016-10-27', 1.25),\n",
       " ('2016-10-28', 0.37),\n",
       " ('2016-10-29', 0.26),\n",
       " ('2016-10-30', 0.95),\n",
       " ('2016-10-31', 1.35),\n",
       " ('2016-11-01', 0.1),\n",
       " ('2016-11-02', 0.04),\n",
       " ('2016-11-03', 0.02),\n",
       " ('2016-11-04', 0.06),\n",
       " ('2016-11-05', 0.38),\n",
       " ('2016-11-06', 0.05),\n",
       " ('2016-11-07', 0.13),\n",
       " ('2016-11-08', 0.53),\n",
       " ('2016-11-09', 0.17),\n",
       " ('2016-11-10', 0.01),\n",
       " ('2016-11-11', 0.0),\n",
       " ('2016-11-12', 0.0),\n",
       " ('2016-11-13', 0.0),\n",
       " ('2016-11-14', 0.06),\n",
       " ('2016-11-15', 0.05),\n",
       " ('2016-11-16', 0.91),\n",
       " ('2016-11-17', 0.03),\n",
       " ('2016-11-18', 0.02),\n",
       " ('2016-11-19', 0.13),\n",
       " ('2016-11-20', 0.4),\n",
       " ('2016-11-21', 2.87),\n",
       " ('2016-11-22', 2.11),\n",
       " ('2016-11-23', 0.25),\n",
       " ('2016-11-24', 0.72),\n",
       " ('2016-11-25', 1.03),\n",
       " ('2016-11-26', 0.3),\n",
       " ('2016-11-27', 0.29),\n",
       " ('2016-11-28', 0.69),\n",
       " ('2016-11-29', 0.2),\n",
       " ('2016-11-30', 0.79),\n",
       " ('2016-12-01', 0.72),\n",
       " ('2016-12-02', 1.27),\n",
       " ('2016-12-03', 1.62),\n",
       " ('2016-12-04', 0.32),\n",
       " ('2016-12-05', 1.6),\n",
       " ('2016-12-06', 0.02),\n",
       " ('2016-12-07', 0.17),\n",
       " ('2016-12-08', 0.27),\n",
       " ('2016-12-09', 0.52),\n",
       " ('2016-12-10', 0.05),\n",
       " ('2016-12-11', 0.13),\n",
       " ('2016-12-12', 0.02),\n",
       " ('2016-12-13', 0.34),\n",
       " ('2016-12-14', 0.92),\n",
       " ('2016-12-15', 0.14),\n",
       " ('2016-12-16', 0.03),\n",
       " ('2016-12-17', 0.16),\n",
       " ('2016-12-18', 0.29),\n",
       " ('2016-12-19', 0.21),\n",
       " ('2016-12-20', 0.02),\n",
       " ('2016-12-21', 0.55),\n",
       " ('2016-12-22', 1.24),\n",
       " ('2016-12-23', 0.83),\n",
       " ('2016-12-24', 1.08),\n",
       " ('2016-12-25', 0.38),\n",
       " ('2016-12-26', 1.48),\n",
       " ('2016-12-27', 0.14),\n",
       " ('2016-12-28', 0.14),\n",
       " ('2016-12-29', 1.03),\n",
       " ('2016-12-30', 2.37),\n",
       " ('2016-12-31', 0.9),\n",
       " ('2017-01-01', 0.29),\n",
       " ('2017-01-02', 0.01),\n",
       " ('2017-01-03', 0.0),\n",
       " ('2017-01-04', 0.18),\n",
       " ('2017-01-05', 0.47),\n",
       " ('2017-01-06', 0.59),\n",
       " ('2017-01-07', 0.06),\n",
       " ('2017-01-08', 0.03),\n",
       " ('2017-01-09', 0.0),\n",
       " ('2017-01-10', 0.0),\n",
       " ('2017-01-11', 0.0),\n",
       " ('2017-01-12', 0.0),\n",
       " ('2017-01-13', 0.0),\n",
       " ('2017-01-14', 0.01),\n",
       " ('2017-01-15', 0.01),\n",
       " ('2017-01-16', 0.0),\n",
       " ('2017-01-17', 0.0),\n",
       " ('2017-01-18', 0.07),\n",
       " ('2017-01-19', 0.02),\n",
       " ('2017-01-20', 0.0),\n",
       " ('2017-01-21', 0.11),\n",
       " ('2017-01-22', 0.72),\n",
       " ('2017-01-23', 0.85),\n",
       " ('2017-01-24', 1.85),\n",
       " ('2017-01-25', 2.64),\n",
       " ('2017-01-26', 0.1),\n",
       " ('2017-01-27', 0.03),\n",
       " ('2017-01-28', 0.14),\n",
       " ('2017-01-29', 0.55),\n",
       " ('2017-01-30', 0.05),\n",
       " ('2017-01-31', 0.0),\n",
       " ('2017-02-01', 0.0),\n",
       " ('2017-02-02', 0.0),\n",
       " ('2017-02-03', 0.0),\n",
       " ('2017-02-04', 0.0),\n",
       " ('2017-02-05', 0.0),\n",
       " ('2017-02-06', 0.18),\n",
       " ('2017-02-07', 1.8),\n",
       " ('2017-02-08', 1.08),\n",
       " ('2017-02-09', 0.02),\n",
       " ('2017-02-10', 0.0),\n",
       " ('2017-02-11', 5.04),\n",
       " ('2017-02-12', 2.98),\n",
       " ('2017-02-13', 2.9),\n",
       " ('2017-02-14', 0.01),\n",
       " ('2017-02-15', 0.07),\n",
       " ('2017-02-16', 0.73),\n",
       " ('2017-02-17', 0.8),\n",
       " ('2017-02-18', 0.01),\n",
       " ('2017-02-19', 0.1),\n",
       " ('2017-02-20', 0.0),\n",
       " ('2017-02-21', 0.07),\n",
       " ('2017-02-22', 0.32),\n",
       " ('2017-02-23', 0.01),\n",
       " ('2017-02-24', 0.0),\n",
       " ('2017-02-25', 0.12),\n",
       " ('2017-02-26', 0.0),\n",
       " ('2017-02-27', 0.0),\n",
       " ('2017-02-28', 0.58),\n",
       " ('2017-03-01', 2.4),\n",
       " ('2017-03-02', 1.88),\n",
       " ('2017-03-03', 0.56),\n",
       " ('2017-03-04', 0.0),\n",
       " ('2017-03-05', 0.41),\n",
       " ('2017-03-06', 0.51),\n",
       " ('2017-03-07', 0.0),\n",
       " ('2017-03-08', 0.0),\n",
       " ('2017-03-09', 0.8),\n",
       " ('2017-03-10', 0.13),\n",
       " ('2017-03-11', 0.03),\n",
       " ('2017-03-12', 0.0),\n",
       " ('2017-03-13', 0.0),\n",
       " ('2017-03-14', 0.06),\n",
       " ('2017-03-15', 0.06),\n",
       " ('2017-03-16', 0.0),\n",
       " ('2017-03-17', 0.35),\n",
       " ('2017-03-18', 0.0),\n",
       " ('2017-03-19', 0.0),\n",
       " ('2017-03-20', 0.02),\n",
       " ('2017-03-21', 0.09),\n",
       " ('2017-03-22', 0.0),\n",
       " ('2017-03-23', 0.03),\n",
       " ('2017-03-24', 0.6),\n",
       " ('2017-03-25', 0.93),\n",
       " ('2017-03-26', 0.0),\n",
       " ('2017-03-27', 0.01),\n",
       " ('2017-03-28', 0.68),\n",
       " ('2017-03-29', 0.08),\n",
       " ('2017-03-30', 0.08),\n",
       " ('2017-03-31', 0.01),\n",
       " ('2017-04-01', 0.21),\n",
       " ('2017-04-02', 0.0),\n",
       " ('2017-04-03', 0.26),\n",
       " ('2017-04-04', 0.09),\n",
       " ('2017-04-05', 0.45),\n",
       " ('2017-04-06', 0.06),\n",
       " ('2017-04-07', 0.0),\n",
       " ('2017-04-08', 0.0),\n",
       " ('2017-04-09', 0.0),\n",
       " ('2017-04-10', 0.01),\n",
       " ('2017-04-11', 0.25),\n",
       " ('2017-04-12', 0.65),\n",
       " ('2017-04-13', 0.59),\n",
       " ('2017-04-14', 2.82),\n",
       " ('2017-04-15', 0.9),\n",
       " ('2017-04-16', 0.49),\n",
       " ('2017-04-17', 1.3),\n",
       " ('2017-04-18', 2.03),\n",
       " ('2017-04-19', 0.14),\n",
       " ('2017-04-20', 0.35),\n",
       " ('2017-04-21', 2.36),\n",
       " ('2017-04-22', 1.58),\n",
       " ('2017-04-23', 0.35),\n",
       " ('2017-04-24', 0.05),\n",
       " ('2017-04-25', 0.0),\n",
       " ('2017-04-26', 0.22),\n",
       " ('2017-04-27', 0.19),\n",
       " ('2017-04-28', 2.6),\n",
       " ('2017-04-29', 6.25),\n",
       " ('2017-04-30', 1.31),\n",
       " ('2017-05-01', 0.26),\n",
       " ('2017-05-02', 0.03),\n",
       " ('2017-05-03', 0.01),\n",
       " ('2017-05-04', 0.08),\n",
       " ('2017-05-05', 0.28),\n",
       " ('2017-05-06', 0.06),\n",
       " ('2017-05-07', 0.07),\n",
       " ('2017-05-08', 1.11),\n",
       " ('2017-05-09', 1.62),\n",
       " ('2017-05-10', 0.55),\n",
       " ('2017-05-11', 0.44),\n",
       " ('2017-05-12', 0.1),\n",
       " ('2017-05-13', 0.12),\n",
       " ('2017-05-14', 1.0),\n",
       " ('2017-05-15', 0.6),\n",
       " ('2017-05-16', 0.3),\n",
       " ('2017-05-17', 0.07),\n",
       " ('2017-05-18', 0.46),\n",
       " ('2017-05-19', 0.02),\n",
       " ('2017-05-20', 0.02),\n",
       " ('2017-05-21', 0.01),\n",
       " ('2017-05-22', 0.3),\n",
       " ('2017-05-23', 0.44),\n",
       " ('2017-05-24', 2.17),\n",
       " ('2017-05-25', 0.88),\n",
       " ('2017-05-26', 0.02),\n",
       " ('2017-05-27', 0.5),\n",
       " ('2017-05-28', 0.29),\n",
       " ('2017-05-29', 0.4),\n",
       " ('2017-05-30', 1.12),\n",
       " ('2017-05-31', 0.25),\n",
       " ('2017-06-01', 0.03),\n",
       " ('2017-06-02', 0.15),\n",
       " ('2017-06-03', 0.2),\n",
       " ('2017-06-04', 0.82),\n",
       " ('2017-06-05', 0.05),\n",
       " ('2017-06-06', 0.0),\n",
       " ('2017-06-07', 0.01),\n",
       " ('2017-06-08', 0.02),\n",
       " ('2017-06-09', 0.02),\n",
       " ('2017-06-10', 0.62),\n",
       " ('2017-06-11', 0.74),\n",
       " ('2017-06-12', 0.81),\n",
       " ('2017-06-13', 0.65),\n",
       " ('2017-06-14', 0.81),\n",
       " ('2017-06-15', 1.69),\n",
       " ('2017-06-16', 0.1),\n",
       " ('2017-06-17', 0.35),\n",
       " ('2017-06-18', 0.7),\n",
       " ('2017-06-19', 0.4),\n",
       " ('2017-06-20', 0.31),\n",
       " ('2017-06-21', 0.3),\n",
       " ('2017-06-22', 0.28),\n",
       " ('2017-06-23', 0.5),\n",
       " ('2017-06-24', 0.36),\n",
       " ('2017-06-25', 0.5),\n",
       " ('2017-06-26', 0.06),\n",
       " ('2017-06-27', 0.1),\n",
       " ('2017-06-28', 0.02),\n",
       " ('2017-06-29', 0.04),\n",
       " ('2017-06-30', 0.2),\n",
       " ('2017-07-01', 0.1),\n",
       " ('2017-07-02', 0.5),\n",
       " ('2017-07-03', 0.4),\n",
       " ('2017-07-04', 0.08),\n",
       " ('2017-07-05', 0.0),\n",
       " ('2017-07-06', 0.02),\n",
       " ('2017-07-07', 0.3),\n",
       " ('2017-07-08', 0.06),\n",
       " ('2017-07-09', 0.11),\n",
       " ('2017-07-10', 0.02),\n",
       " ('2017-07-11', 0.02),\n",
       " ('2017-07-12', 0.28),\n",
       " ('2017-07-13', 0.68),\n",
       " ('2017-07-14', 0.68),\n",
       " ('2017-07-15', 0.1),\n",
       " ('2017-07-16', 0.5),\n",
       " ('2017-07-17', 0.39),\n",
       " ('2017-07-18', 2.4),\n",
       " ('2017-07-19', 0.27),\n",
       " ('2017-07-20', 0.7),\n",
       " ('2017-07-21', 0.1),\n",
       " ('2017-07-22', 4.0),\n",
       " ('2017-07-23', 0.8),\n",
       " ('2017-07-24', 1.19),\n",
       " ('2017-07-25', 0.3),\n",
       " ('2017-07-26', 0.3),\n",
       " ('2017-07-27', 0.01),\n",
       " ('2017-07-28', 0.4),\n",
       " ('2017-07-29', 0.3),\n",
       " ('2017-07-30', 0.3),\n",
       " ('2017-07-31', 0.0),\n",
       " ('2017-08-01', 0.12),\n",
       " ('2017-08-02', 0.25),\n",
       " ('2017-08-03', 0.06),\n",
       " ('2017-08-04', 0.04),\n",
       " ('2017-08-05', 0.06),\n",
       " ('2017-08-06', 0.0),\n",
       " ('2017-08-07', 0.05),\n",
       " ('2017-08-08', 0.34),\n",
       " ('2017-08-09', 0.15),\n",
       " ('2017-08-10', 0.07),\n",
       " ('2017-08-11', 0.0),\n",
       " ('2017-08-12', 0.14),\n",
       " ('2017-08-13', 0.0),\n",
       " ('2017-08-14', 0.22),\n",
       " ('2017-08-15', 0.42),\n",
       " ('2017-08-16', 0.42),\n",
       " ('2017-08-17', 0.13),\n",
       " ('2017-08-18', 0.06),\n",
       " ('2017-08-19', 0.09),\n",
       " ('2017-08-20', 0.01),\n",
       " ('2017-08-21', 0.56),\n",
       " ('2017-08-22', 0.5),\n",
       " ('2017-08-23', 0.45)]"
      ]
     },
     "execution_count": 18,
     "metadata": {},
     "output_type": "execute_result"
    }
   ],
   "source": [
    "dt = session.query(Measurement.date, func.max(Measurement.prcp)).\\\n",
    "    filter(Measurement.date > '2016-08-22').\\\n",
    "    filter(Measurement.prcp != 'None').\\\n",
    "    group_by(Measurement.date).\\\n",
    "    order_by(Measurement.date).all()\n",
    "dt"
   ]
  },
  {
   "cell_type": "code",
   "execution_count": 19,
   "metadata": {},
   "outputs": [
    {
     "data": {
      "text/html": [
       "<div>\n",
       "<style scoped>\n",
       "    .dataframe tbody tr th:only-of-type {\n",
       "        vertical-align: middle;\n",
       "    }\n",
       "\n",
       "    .dataframe tbody tr th {\n",
       "        vertical-align: top;\n",
       "    }\n",
       "\n",
       "    .dataframe thead th {\n",
       "        text-align: right;\n",
       "    }\n",
       "</style>\n",
       "<table border=\"1\" class=\"dataframe\">\n",
       "  <thead>\n",
       "    <tr style=\"text-align: right;\">\n",
       "      <th></th>\n",
       "      <th>date</th>\n",
       "      <th>prcp</th>\n",
       "    </tr>\n",
       "  </thead>\n",
       "  <tbody>\n",
       "    <tr>\n",
       "      <th>0</th>\n",
       "      <td>2016-08-23</td>\n",
       "      <td>1.79</td>\n",
       "    </tr>\n",
       "    <tr>\n",
       "      <th>1</th>\n",
       "      <td>2016-08-24</td>\n",
       "      <td>2.28</td>\n",
       "    </tr>\n",
       "    <tr>\n",
       "      <th>2</th>\n",
       "      <td>2016-08-25</td>\n",
       "      <td>0.21</td>\n",
       "    </tr>\n",
       "    <tr>\n",
       "      <th>3</th>\n",
       "      <td>2016-08-26</td>\n",
       "      <td>0.04</td>\n",
       "    </tr>\n",
       "    <tr>\n",
       "      <th>4</th>\n",
       "      <td>2016-08-27</td>\n",
       "      <td>0.18</td>\n",
       "    </tr>\n",
       "    <tr>\n",
       "      <th>...</th>\n",
       "      <td>...</td>\n",
       "      <td>...</td>\n",
       "    </tr>\n",
       "    <tr>\n",
       "      <th>361</th>\n",
       "      <td>2017-08-19</td>\n",
       "      <td>0.09</td>\n",
       "    </tr>\n",
       "    <tr>\n",
       "      <th>362</th>\n",
       "      <td>2017-08-20</td>\n",
       "      <td>0.01</td>\n",
       "    </tr>\n",
       "    <tr>\n",
       "      <th>363</th>\n",
       "      <td>2017-08-21</td>\n",
       "      <td>0.56</td>\n",
       "    </tr>\n",
       "    <tr>\n",
       "      <th>364</th>\n",
       "      <td>2017-08-22</td>\n",
       "      <td>0.50</td>\n",
       "    </tr>\n",
       "    <tr>\n",
       "      <th>365</th>\n",
       "      <td>2017-08-23</td>\n",
       "      <td>0.45</td>\n",
       "    </tr>\n",
       "  </tbody>\n",
       "</table>\n",
       "<p>366 rows × 2 columns</p>\n",
       "</div>"
      ],
      "text/plain": [
       "           date  prcp\n",
       "0    2016-08-23  1.79\n",
       "1    2016-08-24  2.28\n",
       "2    2016-08-25  0.21\n",
       "3    2016-08-26  0.04\n",
       "4    2016-08-27  0.18\n",
       "..          ...   ...\n",
       "361  2017-08-19  0.09\n",
       "362  2017-08-20  0.01\n",
       "363  2017-08-21  0.56\n",
       "364  2017-08-22  0.50\n",
       "365  2017-08-23  0.45\n",
       "\n",
       "[366 rows x 2 columns]"
      ]
     },
     "execution_count": 19,
     "metadata": {},
     "output_type": "execute_result"
    }
   ],
   "source": [
    "dt = session.query(Measurement.date, func.max(Measurement.prcp)).\\\n",
    "    filter(Measurement.date > '2016-08-22').\\\n",
    "    filter(Measurement.prcp != 'None').\\\n",
    "    group_by(Measurement.date).\\\n",
    "    order_by(Measurement.date).all()\n",
    "\n",
    "\n",
    "\n",
    "\n",
    "df = pd.DataFrame(dt, columns=['date', 'prcp'])\n",
    "df"
   ]
  },
  {
   "cell_type": "code",
   "execution_count": 20,
   "metadata": {},
   "outputs": [
    {
     "data": {
      "text/plain": [
       "date    2021\n",
       "prcp    2021\n",
       "dtype: int64"
      ]
     },
     "execution_count": 20,
     "metadata": {},
     "output_type": "execute_result"
    }
   ],
   "source": [
    "dtt = session.query(Measurement.date, Measurement.prcp).filter(Measurement.date > '2016-08-22').\\\n",
    "    filter(Measurement.prcp != 'None').\\\n",
    "        order_by(Measurement.date).all()\n",
    "\n",
    "\n",
    "\n",
    "\n",
    "dff = pd.DataFrame(dtt, columns=['date', 'prcp'])\n",
    "dff.count()"
   ]
  },
  {
   "cell_type": "code",
   "execution_count": 21,
   "metadata": {},
   "outputs": [
    {
     "name": "stdout",
     "output_type": "stream",
     "text": [
      "The count of precipitation is: date    2021\n",
      "prcp    2021\n",
      "dtype: int64\n",
      "The mean of precipitation is: 0.17727857496288896\n",
      "The std of precipitation is: 0.4611895038877027\n",
      "The min of precipitation is: 0.0\n",
      "The 25 % of precipitation is: 0.0\n",
      "The interquartile range of precipitation is: 0.13\n",
      "The 50 median of precipitation is: 0.02 \n",
      "The 75 % of precipitation is: 0.13\n",
      "The max  of precipitation is: 6.7\n",
      "The variance  of precipitation is: 0.21269575849618533\n"
     ]
    }
   ],
   "source": [
    "dtt = session.query(Measurement.date, Measurement.prcp).filter(Measurement.date > '2016-08-22').\\\n",
    "    filter(Measurement.prcp != 'None').\\\n",
    "        order_by(Measurement.date).all()\n",
    "\n",
    "dff = pd.DataFrame(dtt, columns=['date', 'prcp'])\n",
    "dff.count()\n",
    "quartiles = dff['prcp'].quantile([.25,.5,.75])\n",
    "lowerq = quartiles[0.25]\n",
    "upperq = quartiles[0.75]\n",
    "iqr = upperq-lowerq\n",
    "print(f\"The count of precipitation is: {dff.count()}\")\n",
    "print(f\"The mean of precipitation is: {dff['prcp'].mean()}\")\n",
    "print(f\"The std of precipitation is: {dff['prcp'].std()}\")\n",
    "print(f\"The min of precipitation is: {dff['prcp'].min()}\")\n",
    "print(f\"The 25 % of precipitation is: {lowerq}\")\n",
    "print(f\"The interquartile range of precipitation is: {iqr}\")\n",
    "print(f\"The 50 median of precipitation is: {quartiles[0.5]} \")\n",
    "print(f\"The 75 % of precipitation is: {upperq}\")\n",
    "print(f\"The max  of precipitation is: {dff['prcp'].max()}\")\n",
    "print(f\"The variance  of precipitation is: {dff['prcp'].var()}\")"
   ]
  },
  {
   "cell_type": "code",
   "execution_count": 22,
   "metadata": {},
   "outputs": [
    {
     "data": {
      "image/png": "[encoded data removed]",
      "text/plain": [
       "<Figure size 432x288 with 1 Axes>"
      ]
     },
     "metadata": {},
     "output_type": "display_data"
    }
   ],
   "source": [
    "dt = session.query(Measurement.date, func.max(Measurement.prcp)).\\\n",
    "    filter(Measurement.date > '2016-08-22').\\\n",
    "    filter(Measurement.prcp != 'None').\\\n",
    "    group_by(Measurement.date).\\\n",
    "    order_by(Measurement.date).all()\n",
    "\n",
    "df = pd.DataFrame(dt, columns=['date', 'prcp'])\n",
    "\n",
    "df = df.dropna()\n",
    "\n",
    "#x_axis = np.arange(0, len(dt))\n",
    "\n",
    "x_axis = np.arange(0, len(dt), 20)\n",
    "\n",
    "\n",
    "tick_locations = []\n",
    "for x in x_axis:\n",
    "    tick_locations.append(x)\n",
    "    \n",
    "dtdata = []\n",
    "#for  index, row in df.iterrows():\n",
    "#    try:\n",
    "#        dtdata.append(row['date'])\n",
    "#    except:\n",
    "#        pass\n",
    "prcp =  []\n",
    "for index in x_axis:\n",
    "    dtdata.append((df.values[index][0]))\n",
    "    prcp.append((df.values[index][1]))\n",
    "\n",
    "df.set_index('date', inplace=True)\n",
    "    \n",
    "\n",
    "#plt.xlim(-0.75, len(gyms)-.25)\n",
    "#plt.ylim(0, max(members) + 5)\n",
    "\n",
    "#plt.bar(dtdata, prcp, facecolor=\"red\", alpha=0.75, align=\"center\")\n",
    "df.plot.bar()\n",
    "plt.xticks(tick_locations, dtdata, rotation=\"vertical\")\n",
    "#plt.xticks(range(0, len(tick_locations)), dtdata, rotation=\"90\")\n",
    "plt.tight_layout()\n",
    "plt.xlabel(\"The date\")\n",
    "plt.ylabel(\"Precipitation\")\n",
    "plt.ylim(-1,8)\n",
    "#plt.xlim(0,385)\n",
    "plt.show()\n"
   ]
  },
  {
   "cell_type": "code",
   "execution_count": 23,
   "metadata": {},
   "outputs": [
    {
     "name": "stdout",
     "output_type": "stream",
     "text": [
      "The count of precipitation is: date    2021\n",
      "prcp    2021\n",
      "dtype: int64\n",
      "The mean of precipitation is: 0.17727857496288896\n",
      "The std of precipitation is: 0.4611895038877027\n",
      "The min of precipitation is: 0.0\n",
      "The 25 % of precipitation is: 0.0\n",
      "The interquartile range of precipitation is: 0.13\n",
      "The 50 median of precipitation is: 0.02 \n",
      "The 75 % of precipitation is: 0.13\n",
      "The max  of precipitation is: 6.7\n",
      "The variance  of precipitation is: 0.21269575849618533\n"
     ]
    }
   ],
   "source": [
    "# Use Pandas to calcualte the summary statistics for the precipitation data\n",
    "dtt = session.query(Measurement.date, Measurement.prcp).filter(Measurement.date > '2016-08-22').\\\n",
    "    filter(Measurement.prcp != 'None').\\\n",
    "        order_by(Measurement.date).all()\n",
    "\n",
    "dff = pd.DataFrame(dtt, columns=['date', 'prcp'])\n",
    "dff.count()\n",
    "quartiles = dff['prcp'].quantile([.25,.5,.75])\n",
    "lowerq = quartiles[0.25]\n",
    "upperq = quartiles[0.75]\n",
    "iqr = upperq-lowerq\n",
    "print(f\"The count of precipitation is: {dff.count()}\")\n",
    "print(f\"The mean of precipitation is: {dff['prcp'].mean()}\")\n",
    "print(f\"The std of precipitation is: {dff['prcp'].std()}\")\n",
    "print(f\"The min of precipitation is: {dff['prcp'].min()}\")\n",
    "print(f\"The 25 % of precipitation is: {lowerq}\")\n",
    "print(f\"The interquartile range of precipitation is: {iqr}\")\n",
    "print(f\"The 50 median of precipitation is: {quartiles[0.5]} \")\n",
    "print(f\"The 75 % of precipitation is: {upperq}\")\n",
    "print(f\"The max  of precipitation is: {dff['prcp'].max()}\")\n",
    "print(f\"The variance  of precipitation is: {dff['prcp'].var()}\")"
   ]
  },
  {
   "cell_type": "code",
   "execution_count": 24,
   "metadata": {},
   "outputs": [
    {
     "data": {
      "text/plain": [
       "id         9\n",
       "station    9\n",
       "name       9\n",
       "dtype: int64"
      ]
     },
     "execution_count": 24,
     "metadata": {},
     "output_type": "execute_result"
    }
   ],
   "source": [
    "# Design a query to show how many stations are available in this dataset?\n",
    "stt = session.query(Station.id, Station.station, Station.name).all()\n",
    "sttt = pd.DataFrame(stt, columns=['id','station', 'name'])\n",
    "sttt.count()"
   ]
  },
  {
   "cell_type": "code",
   "execution_count": 25,
   "metadata": {},
   "outputs": [
    {
     "data": {
      "text/html": [
       "<div>\n",
       "<style scoped>\n",
       "    .dataframe tbody tr th:only-of-type {\n",
       "        vertical-align: middle;\n",
       "    }\n",
       "\n",
       "    .dataframe tbody tr th {\n",
       "        vertical-align: top;\n",
       "    }\n",
       "\n",
       "    .dataframe thead th {\n",
       "        text-align: right;\n",
       "    }\n",
       "</style>\n",
       "<table border=\"1\" class=\"dataframe\">\n",
       "  <thead>\n",
       "    <tr style=\"text-align: right;\">\n",
       "      <th></th>\n",
       "      <th>id</th>\n",
       "      <th>station</th>\n",
       "      <th>name</th>\n",
       "    </tr>\n",
       "  </thead>\n",
       "  <tbody>\n",
       "    <tr>\n",
       "      <th>0</th>\n",
       "      <td>1</td>\n",
       "      <td>USC00519397</td>\n",
       "      <td>WAIKIKI 717.2, HI US</td>\n",
       "    </tr>\n",
       "    <tr>\n",
       "      <th>1</th>\n",
       "      <td>2</td>\n",
       "      <td>USC00513117</td>\n",
       "      <td>KANEOHE 838.1, HI US</td>\n",
       "    </tr>\n",
       "    <tr>\n",
       "      <th>2</th>\n",
       "      <td>3</td>\n",
       "      <td>USC00514830</td>\n",
       "      <td>KUALOA RANCH HEADQUARTERS 886.9, HI US</td>\n",
       "    </tr>\n",
       "    <tr>\n",
       "      <th>3</th>\n",
       "      <td>4</td>\n",
       "      <td>USC00517948</td>\n",
       "      <td>PEARL CITY, HI US</td>\n",
       "    </tr>\n",
       "    <tr>\n",
       "      <th>4</th>\n",
       "      <td>5</td>\n",
       "      <td>USC00518838</td>\n",
       "      <td>UPPER WAHIAWA 874.3, HI US</td>\n",
       "    </tr>\n",
       "    <tr>\n",
       "      <th>5</th>\n",
       "      <td>6</td>\n",
       "      <td>USC00519523</td>\n",
       "      <td>WAIMANALO EXPERIMENTAL FARM, HI US</td>\n",
       "    </tr>\n",
       "    <tr>\n",
       "      <th>6</th>\n",
       "      <td>7</td>\n",
       "      <td>USC00519281</td>\n",
       "      <td>WAIHEE 837.5, HI US</td>\n",
       "    </tr>\n",
       "    <tr>\n",
       "      <th>7</th>\n",
       "      <td>8</td>\n",
       "      <td>USC00511918</td>\n",
       "      <td>HONOLULU OBSERVATORY 702.2, HI US</td>\n",
       "    </tr>\n",
       "    <tr>\n",
       "      <th>8</th>\n",
       "      <td>9</td>\n",
       "      <td>USC00516128</td>\n",
       "      <td>MANOA LYON ARBO 785.2, HI US</td>\n",
       "    </tr>\n",
       "  </tbody>\n",
       "</table>\n",
       "</div>"
      ],
      "text/plain": [
       "   id      station                                    name\n",
       "0   1  USC00519397                    WAIKIKI 717.2, HI US\n",
       "1   2  USC00513117                    KANEOHE 838.1, HI US\n",
       "2   3  USC00514830  KUALOA RANCH HEADQUARTERS 886.9, HI US\n",
       "3   4  USC00517948                       PEARL CITY, HI US\n",
       "4   5  USC00518838              UPPER WAHIAWA 874.3, HI US\n",
       "5   6  USC00519523      WAIMANALO EXPERIMENTAL FARM, HI US\n",
       "6   7  USC00519281                     WAIHEE 837.5, HI US\n",
       "7   8  USC00511918       HONOLULU OBSERVATORY 702.2, HI US\n",
       "8   9  USC00516128            MANOA LYON ARBO 785.2, HI US"
      ]
     },
     "execution_count": 25,
     "metadata": {},
     "output_type": "execute_result"
    }
   ],
   "source": [
    "sttt.head(10)"
   ]
  },
  {
   "cell_type": "code",
   "execution_count": 26,
   "metadata": {},
   "outputs": [
    {
     "name": "stdout",
     "output_type": "stream",
     "text": [
      "USC00519397\n",
      "USC00519397\n",
      "USC00519397\n",
      "USC00519397\n",
      "USC00519397\n",
      "USC00519397\n",
      "USC00519397\n",
      "USC00519397\n",
      "USC00519397\n",
      "USC00519397\n",
      "USC00519397\n",
      "USC00519397\n",
      "USC00519397\n",
      "USC00519397\n",
      "USC00519397\n",
      "USC00519397\n",
      "USC00519397\n",
      "USC00519397\n",
      "USC00519397\n",
      "USC00519397\n"
     ]
    }
   ],
   "source": [
    "same_station= session.query(Measurement, Station).filter(Measurement.station == Station.station).limit(10).all()\n",
    "\n",
    "\n",
    "for record in same_station:\n",
    "    (meas, sta) = record\n",
    "    print(meas.station)\n",
    "    print(sta.station)\n"
   ]
  },
  {
   "cell_type": "code",
   "execution_count": 27,
   "metadata": {},
   "outputs": [
    {
     "data": {
      "text/plain": [
       "[('USC00519281', 'WAIHEE 837.5, HI US', 2772),\n",
       " ('USC00519397', 'WAIKIKI 717.2, HI US', 2724),\n",
       " ('USC00513117', 'KANEOHE 838.1, HI US', 2709),\n",
       " ('USC00519523', 'WAIMANALO EXPERIMENTAL FARM, HI US', 2669),\n",
       " ('USC00516128', 'MANOA LYON ARBO 785.2, HI US', 2612),\n",
       " ('USC00514830', 'KUALOA RANCH HEADQUARTERS 886.9, HI US', 2202),\n",
       " ('USC00511918', 'HONOLULU OBSERVATORY 702.2, HI US', 1979),\n",
       " ('USC00517948', 'PEARL CITY, HI US', 1372),\n",
       " ('USC00518838', 'UPPER WAHIAWA 874.3, HI US', 511)]"
      ]
     },
     "execution_count": 27,
     "metadata": {},
     "output_type": "execute_result"
    }
   ],
   "source": [
    "# What are the most active stations? (i.e. what stations have the most rows)?\n",
    "# List the stations and the counts in descending order.\n",
    "\n",
    "sel = [Measurement.station, \n",
    "           Station.name, \n",
    "       func.count(1)]\n",
    "may_averages = session.query(*sel).\\\n",
    "    filter(Measurement.station == Station.station).\\\n",
    "    group_by(Measurement.station).\\\n",
    "    order_by(func.count(1).desc()).all()\n",
    "may_averages\n"
   ]
  },
  {
   "cell_type": "code",
   "execution_count": 28,
   "metadata": {},
   "outputs": [
    {
     "data": {
      "text/plain": [
       "[('USC00519281', 'WAIHEE 837.5, HI US', 2772),\n",
       " ('USC00519397', 'WAIKIKI 717.2, HI US', 2724),\n",
       " ('USC00513117', 'KANEOHE 838.1, HI US', 2709),\n",
       " ('USC00519523', 'WAIMANALO EXPERIMENTAL FARM, HI US', 2669),\n",
       " ('USC00516128', 'MANOA LYON ARBO 785.2, HI US', 2612),\n",
       " ('USC00514830', 'KUALOA RANCH HEADQUARTERS 886.9, HI US', 2202),\n",
       " ('USC00511918', 'HONOLULU OBSERVATORY 702.2, HI US', 1979),\n",
       " ('USC00517948', 'PEARL CITY, HI US', 1372),\n",
       " ('USC00518838', 'UPPER WAHIAWA 874.3, HI US', 511)]"
      ]
     },
     "execution_count": 28,
     "metadata": {},
     "output_type": "execute_result"
    }
   ],
   "source": [
    "sel = [Measurement.station, \n",
    "           Station.name, \n",
    "       func.count(1)]\n",
    "may_averages = session.query(*sel).\\\n",
    "    filter(Measurement.station == Station.station).\\\n",
    "    group_by(Measurement.station).\\\n",
    "    order_by(func.count(1).desc()).all()\n",
    "may_averages"
   ]
  },
  {
   "cell_type": "code",
   "execution_count": 29,
   "metadata": {},
   "outputs": [
    {
     "data": {
      "text/plain": [
       "[('USC00519281', 'WAIHEE 837.5, HI US', 54.0, 85.0, 71.66378066378067, 2772),\n",
       " ('USC00519397', 'WAIKIKI 717.2, HI US', 56.0, 87.0, 74.55323054331865, 2724),\n",
       " ('USC00513117', 'KANEOHE 838.1, HI US', 59.0, 85.0, 72.68918420081211, 2709),\n",
       " ('USC00519523',\n",
       "  'WAIMANALO EXPERIMENTAL FARM, HI US',\n",
       "  56.0,\n",
       "  85.0,\n",
       "  74.5436493068565,\n",
       "  2669),\n",
       " ('USC00516128',\n",
       "  'MANOA LYON ARBO 785.2, HI US',\n",
       "  58.0,\n",
       "  84.0,\n",
       "  70.91500765696784,\n",
       "  2612),\n",
       " ('USC00514830',\n",
       "  'KUALOA RANCH HEADQUARTERS 886.9, HI US',\n",
       "  58.0,\n",
       "  85.0,\n",
       "  74.8732970027248,\n",
       "  2202),\n",
       " ('USC00511918',\n",
       "  'HONOLULU OBSERVATORY 702.2, HI US',\n",
       "  53.0,\n",
       "  87.0,\n",
       "  71.61596766043456,\n",
       "  1979),\n",
       " ('USC00517948', 'PEARL CITY, HI US', 58.0, 87.0, 74.68440233236151, 1372),\n",
       " ('USC00518838',\n",
       "  'UPPER WAHIAWA 874.3, HI US',\n",
       "  58.0,\n",
       "  83.0,\n",
       "  72.72407045009784,\n",
       "  511)]"
      ]
     },
     "execution_count": 29,
     "metadata": {},
     "output_type": "execute_result"
    }
   ],
   "source": [
    "sel = [Measurement.station, \n",
    "       Station.name, \n",
    "       func.min(Measurement.tobs), \n",
    "       func.max(Measurement.tobs), \n",
    "       func.avg(Measurement.tobs),\n",
    "      func.count(1)]\n",
    "\n",
    "\n",
    "may_averages = session.query(*sel).\\\n",
    "    filter(Measurement.station == Station.station).\\\n",
    "    group_by(Measurement.station).\\\n",
    "    order_by(func.count(1).desc()).all()\n",
    "may_averages"
   ]
  },
  {
   "cell_type": "code",
   "execution_count": 30,
   "metadata": {},
   "outputs": [
    {
     "data": {
      "text/plain": [
       "[('2017-08-18',)]"
      ]
     },
     "execution_count": 30,
     "metadata": {},
     "output_type": "execute_result"
    }
   ],
   "source": [
    "engine.execute('SELECT max(date) FROM measurement where station=\"USC00519281\"').fetchall()"
   ]
  },
  {
   "cell_type": "code",
   "execution_count": 31,
   "metadata": {},
   "outputs": [
    {
     "data": {
      "text/plain": [
       "[(1, 'USC00519397', 'WAIKIKI 717.2, HI US', 21.2716, -157.8168, 3.0),\n",
       " (2, 'USC00513117', 'KANEOHE 838.1, HI US', 21.4234, -157.8015, 14.6),\n",
       " (3, 'USC00514830', 'KUALOA RANCH HEADQUARTERS 886.9, HI US', 21.5213, -157.8374, 7.0),\n",
       " (4, 'USC00517948', 'PEARL CITY, HI US', 21.3934, -157.9751, 11.9),\n",
       " (5, 'USC00518838', 'UPPER WAHIAWA 874.3, HI US', 21.4992, -158.0111, 306.6),\n",
       " (6, 'USC00519523', 'WAIMANALO EXPERIMENTAL FARM, HI US', 21.33556, -157.71139, 19.5),\n",
       " (7, 'USC00519281', 'WAIHEE 837.5, HI US', 21.45167, -157.84888999999998, 32.9),\n",
       " (8, 'USC00511918', 'HONOLULU OBSERVATORY 702.2, HI US', 21.3152, -157.9992, 0.9),\n",
       " (9, 'USC00516128', 'MANOA LYON ARBO 785.2, HI US', 21.3331, -157.8025, 152.4)]"
      ]
     },
     "execution_count": 31,
     "metadata": {},
     "output_type": "execute_result"
    }
   ],
   "source": [
    "engine.execute('SELECT * FROM station').fetchall()"
   ]
  },
  {
   "cell_type": "code",
   "execution_count": 32,
   "metadata": {},
   "outputs": [],
   "source": [
    "# Using the station id from the previous query, calculate the lowest temperature recorded, \n",
    "# highest temperature recorded, and average temperature of the most active station?\n"
   ]
  },
  {
   "cell_type": "code",
   "execution_count": 33,
   "metadata": {},
   "outputs": [
    {
     "data": {
      "text/plain": [
       "[(14603, 'USC00519281', '2016-08-18', 0.0, 80.0),\n",
       " (14604, 'USC00519281', '2016-08-19', 0.31, 79.0),\n",
       " (14605, 'USC00519281', '2016-08-20', 0.13, 81.0),\n",
       " (14606, 'USC00519281', '2016-08-21', 0.08, 79.0),\n",
       " (14607, 'USC00519281', '2016-08-22', 2.32, 78.0),\n",
       " (14608, 'USC00519281', '2016-08-23', 1.79, 77.0),\n",
       " (14609, 'USC00519281', '2016-08-24', 2.15, 77.0),\n",
       " (14610, 'USC00519281', '2016-08-25', 0.06, 80.0),\n",
       " (14611, 'USC00519281', '2016-08-26', 0.01, 80.0),\n",
       " (14612, 'USC00519281', '2016-08-27', 0.12, 75.0),\n",
       " (14613, 'USC00519281', '2016-08-28', 0.6, 73.0),\n",
       " (14614, 'USC00519281', '2016-08-29', 0.35, 78.0),\n",
       " (14615, 'USC00519281', '2016-08-30', 0.0, 77.0),\n",
       " (14616, 'USC00519281', '2016-08-31', 0.24, 78.0),\n",
       " (14617, 'USC00519281', '2016-09-01', 0.02, 80.0),\n",
       " (14618, 'USC00519281', '2016-09-02', 0.01, 80.0),\n",
       " (14619, 'USC00519281', '2016-09-03', 0.12, 78.0),\n",
       " (14620, 'USC00519281', '2016-09-04', 0.14, 78.0),\n",
       " (14621, 'USC00519281', '2016-09-05', 0.03, 78.0),\n",
       " (14622, 'USC00519281', '2016-09-06', 0.11, 73.0),\n",
       " (14623, 'USC00519281', '2016-09-07', 0.16, 74.0),\n",
       " (14624, 'USC00519281', '2016-09-08', 0.07, 80.0),\n",
       " (14625, 'USC00519281', '2016-09-09', 0.16, 79.0),\n",
       " (14626, 'USC00519281', '2016-09-10', 0.09, 77.0),\n",
       " (14627, 'USC00519281', '2016-09-11', 0.3, 80.0),\n",
       " (14628, 'USC00519281', '2016-09-12', 0.31, 76.0),\n",
       " (14629, 'USC00519281', '2016-09-13', 0.34, 79.0),\n",
       " (14630, 'USC00519281', '2016-09-14', 2.33, 75.0),\n",
       " (14631, 'USC00519281', '2016-09-15', 0.83, 79.0),\n",
       " (14632, 'USC00519281', '2016-09-16', 0.06, 78.0),\n",
       " (14633, 'USC00519281', '2016-09-17', 0.36, 79.0),\n",
       " (14634, 'USC00519281', '2016-09-18', 0.07, 78.0),\n",
       " (14635, 'USC00519281', '2016-09-19', 0.01, 78.0),\n",
       " (14636, 'USC00519281', '2016-09-20', 0.22, 76.0),\n",
       " (14637, 'USC00519281', '2016-09-21', 0.07, 74.0),\n",
       " (14638, 'USC00519281', '2016-09-22', 0.34, 77.0),\n",
       " (14639, 'USC00519281', '2016-09-23', 0.94, 78.0),\n",
       " (14640, 'USC00519281', '2016-09-24', 0.01, 79.0),\n",
       " (14641, 'USC00519281', '2016-09-25', 0.03, 79.0),\n",
       " (14642, 'USC00519281', '2016-09-26', 0.17, 77.0),\n",
       " (14643, 'USC00519281', '2016-09-27', 0.17, 80.0),\n",
       " (14644, 'USC00519281', '2016-09-28', 0.0, 78.0),\n",
       " (14645, 'USC00519281', '2016-09-29', 0.59, 78.0),\n",
       " (14646, 'USC00519281', '2016-09-30', 0.25, 78.0),\n",
       " (14647, 'USC00519281', '2016-10-01', 0.14, 77.0),\n",
       " (14648, 'USC00519281', '2016-10-02', 0.06, 79.0),\n",
       " (14649, 'USC00519281', '2016-10-03', 0.16, 79.0),\n",
       " (14650, 'USC00519281', '2016-10-04', 0.03, 79.0),\n",
       " (14651, 'USC00519281', '2016-10-05', 0.01, 79.0),\n",
       " (14652, 'USC00519281', '2016-10-06', 0.0, 75.0),\n",
       " (14653, 'USC00519281', '2016-10-07', 0.0, 76.0),\n",
       " (14654, 'USC00519281', '2016-10-08', 0.0, 73.0),\n",
       " (14655, 'USC00519281', '2016-10-09', 0.0, 72.0),\n",
       " (14656, 'USC00519281', '2016-10-10', 0.0, 71.0),\n",
       " (14657, 'USC00519281', '2016-10-11', 0.28, 77.0),\n",
       " (14658, 'USC00519281', '2016-10-12', 0.03, 79.0),\n",
       " (14659, 'USC00519281', '2016-10-13', 0.0, 78.0),\n",
       " (14660, 'USC00519281', '2016-10-14', 0.0, 79.0),\n",
       " (14661, 'USC00519281', '2016-10-15', 0.04, 77.0),\n",
       " (14662, 'USC00519281', '2016-10-16', 0.0, 79.0),\n",
       " (14663, 'USC00519281', '2016-10-17', 0.01, 77.0),\n",
       " (14664, 'USC00519281', '2016-10-18', 0.02, 78.0),\n",
       " (14665, 'USC00519281', '2016-10-19', 0.11, 78.0),\n",
       " (14666, 'USC00519281', '2016-10-20', 0.0, 78.0),\n",
       " (14667, 'USC00519281', '2016-10-21', 0.0, 78.0),\n",
       " (14668, 'USC00519281', '2016-10-22', 0.15, 77.0),\n",
       " (14669, 'USC00519281', '2016-10-23', 0.02, 74.0),\n",
       " (14670, 'USC00519281', '2016-10-24', 0.08, 75.0),\n",
       " (14671, 'USC00519281', '2016-10-25', 0.11, 76.0),\n",
       " (14672, 'USC00519281', '2016-10-26', 0.01, 73.0),\n",
       " (14673, 'USC00519281', '2016-10-27', 0.22, 76.0),\n",
       " (14674, 'USC00519281', '2016-10-28', 0.05, 74.0),\n",
       " (14675, 'USC00519281', '2016-10-29', 0.1, 77.0),\n",
       " (14676, 'USC00519281', '2016-10-30', 0.16, 76.0),\n",
       " (14677, 'USC00519281', '2016-10-31', 0.07, 76.0),\n",
       " (14678, 'USC00519281', '2016-11-01', 0.1, 74.0),\n",
       " (14679, 'USC00519281', '2016-11-02', 0.0, 75.0),\n",
       " (14680, 'USC00519281', '2016-11-03', 0.0, 75.0),\n",
       " (14681, 'USC00519281', '2016-11-04', 0.0, 75.0),\n",
       " (14682, 'USC00519281', '2016-11-05', 0.03, 75.0),\n",
       " (14683, 'USC00519281', '2016-11-06', 0.01, 71.0),\n",
       " (14684, 'USC00519281', '2016-11-07', 0.0, 63.0),\n",
       " (14685, 'USC00519281', '2016-11-08', 0.21, 70.0),\n",
       " (14686, 'USC00519281', '2016-11-09', 0.11, 68.0),\n",
       " (14687, 'USC00519281', '2016-11-10', 0.0, 67.0),\n",
       " (14688, 'USC00519281', '2016-11-11', 0.0, 77.0),\n",
       " (14689, 'USC00519281', '2016-11-12', 0.0, 74.0),\n",
       " (14690, 'USC00519281', '2016-11-13', 0.0, 77.0),\n",
       " (14691, 'USC00519281', '2016-11-14', 0.0, 76.0),\n",
       " (14692, 'USC00519281', '2016-11-15', 0.0, 76.0),\n",
       " (14693, 'USC00519281', '2016-11-16', 0.24, 75.0),\n",
       " (14694, 'USC00519281', '2016-11-17', 0.01, 76.0),\n",
       " (14695, 'USC00519281', '2016-11-18', 0.0, 75.0),\n",
       " (14696, 'USC00519281', '2016-11-19', 0.11, 73.0),\n",
       " (14697, 'USC00519281', '2016-11-20', 0.39, 75.0),\n",
       " (14698, 'USC00519281', '2016-11-21', 0.11, 73.0),\n",
       " (14699, 'USC00519281', '2016-11-22', 2.05, 75.0),\n",
       " (14700, 'USC00519281', '2016-11-23', 0.25, 74.0),\n",
       " (14701, 'USC00519281', '2016-11-24', 0.3, 75.0),\n",
       " (14702, 'USC00519281', '2016-11-25', 0.08, 74.0),\n",
       " (14703, 'USC00519281', '2016-11-26', 0.06, 75.0),\n",
       " (14704, 'USC00519281', '2016-11-27', 0.17, 73.0),\n",
       " (14705, 'USC00519281', '2016-11-28', 0.0, 75.0),\n",
       " (14706, 'USC00519281', '2016-11-29', 0.09, 73.0),\n",
       " (14707, 'USC00519281', '2016-11-30', 0.05, 73.0),\n",
       " (14708, 'USC00519281', '2016-12-01', 0.37, 74.0),\n",
       " (14709, 'USC00519281', '2016-12-02', 0.35, 70.0),\n",
       " (14710, 'USC00519281', '2016-12-03', 0.77, 72.0),\n",
       " (14711, 'USC00519281', '2016-12-04', 0.04, 70.0),\n",
       " (14712, 'USC00519281', '2016-12-05', 0.22, 67.0),\n",
       " (14713, 'USC00519281', '2016-12-06', 0.0, 67.0),\n",
       " (14714, 'USC00519281', '2016-12-07', 0.12, 69.0),\n",
       " (14715, 'USC00519281', '2016-12-08', 0.07, 70.0),\n",
       " (14716, 'USC00519281', '2016-12-09', 0.31, 68.0),\n",
       " (14717, 'USC00519281', '2016-12-10', 0.02, 69.0),\n",
       " (14718, 'USC00519281', '2016-12-11', 0.0, 69.0),\n",
       " (14719, 'USC00519281', '2016-12-12', 0.0, 66.0),\n",
       " (14720, 'USC00519281', '2016-12-13', 0.04, 65.0),\n",
       " (14721, 'USC00519281', '2016-12-14', 0.92, 68.0),\n",
       " (14722, 'USC00519281', '2016-12-15', 0.14, 62.0),\n",
       " (14723, 'USC00519281', '2016-12-16', 0.03, 75.0),\n",
       " (14724, 'USC00519281', '2016-12-17', 0.07, 70.0),\n",
       " (14725, 'USC00519281', '2016-12-18', 0.16, 69.0),\n",
       " (14726, 'USC00519281', '2016-12-19', 0.03, 76.0),\n",
       " (14727, 'USC00519281', '2016-12-20', 0.0, 76.0),\n",
       " (14728, 'USC00519281', '2016-12-21', 0.11, 74.0),\n",
       " (14729, 'USC00519281', '2016-12-22', 0.86, 73.0),\n",
       " (14730, 'USC00519281', '2016-12-23', 0.24, 71.0),\n",
       " (14731, 'USC00519281', '2016-12-24', 0.2, 74.0),\n",
       " (14732, 'USC00519281', '2016-12-25', 0.02, 74.0),\n",
       " (14733, 'USC00519281', '2016-12-26', 0.22, 72.0),\n",
       " (14734, 'USC00519281', '2016-12-27', 0.05, 71.0),\n",
       " (14735, 'USC00519281', '2016-12-28', 0.09, 72.0),\n",
       " (14736, 'USC00519281', '2016-12-29', 0.52, 74.0),\n",
       " (14737, 'USC00519281', '2016-12-30', 0.29, 69.0),\n",
       " (14738, 'USC00519281', '2016-12-31', 0.25, 67.0),\n",
       " (14739, 'USC00519281', '2017-01-01', 0.03, 72.0),\n",
       " (14740, 'USC00519281', '2017-01-02', 0.01, 70.0),\n",
       " (14741, 'USC00519281', '2017-01-03', 0.0, 64.0),\n",
       " (14742, 'USC00519281', '2017-01-04', 0.0, 63.0),\n",
       " (14743, 'USC00519281', '2017-01-05', 0.06, 63.0),\n",
       " (14744, 'USC00519281', '2017-01-06', 0.1, 62.0),\n",
       " (14745, 'USC00519281', '2017-01-07', 0.0, 70.0),\n",
       " (14746, 'USC00519281', '2017-01-08', 0.0, 70.0),\n",
       " (14747, 'USC00519281', '2017-01-09', 0.0, 62.0),\n",
       " (14748, 'USC00519281', '2017-01-10', 0.0, 62.0),\n",
       " (14749, 'USC00519281', '2017-01-11', 0.0, 63.0),\n",
       " (14750, 'USC00519281', '2017-01-12', 0.0, 65.0),\n",
       " (14751, 'USC00519281', '2017-01-13', 0.0, 69.0),\n",
       " (14752, 'USC00519281', '2017-01-14', 0.01, 77.0),\n",
       " (14753, 'USC00519281', '2017-01-15', 0.0, 70.0),\n",
       " (14754, 'USC00519281', '2017-01-16', 0.0, 74.0),\n",
       " (14755, 'USC00519281', '2017-01-17', 0.0, 69.0),\n",
       " (14756, 'USC00519281', '2017-01-18', 0.0, 72.0),\n",
       " (14757, 'USC00519281', '2017-01-19', 0.02, 71.0),\n",
       " (14758, 'USC00519281', '2017-01-20', 0.0, 69.0),\n",
       " (14759, 'USC00519281', '2017-01-21', 0.03, 71.0),\n",
       " (14760, 'USC00519281', '2017-01-22', 0.09, 71.0),\n",
       " (14761, 'USC00519281', '2017-01-23', 0.01, 72.0),\n",
       " (14762, 'USC00519281', '2017-01-24', 0.13, 72.0),\n",
       " (14763, 'USC00519281', '2017-01-25', 0.79, 69.0),\n",
       " (14764, 'USC00519281', '2017-01-26', 0.0, 70.0),\n",
       " (14765, 'USC00519281', '2017-01-27', 0.03, 66.0),\n",
       " (14766, 'USC00519281', '2017-01-28', 0.0, 65.0),\n",
       " (14767, 'USC00519281', '2017-01-29', 0.26, 69.0),\n",
       " (14768, 'USC00519281', '2017-01-30', 0.0, 68.0),\n",
       " (14769, 'USC00519281', '2017-01-31', 0.0, 68.0),\n",
       " (14770, 'USC00519281', '2017-02-01', 0.0, 68.0),\n",
       " (14771, 'USC00519281', '2017-02-02', 0.0, 59.0),\n",
       " (14772, 'USC00519281', '2017-02-03', 0.0, 60.0),\n",
       " (14773, 'USC00519281', '2017-02-04', 0.0, 70.0),\n",
       " (14774, 'USC00519281', '2017-02-05', 0.0, 73.0),\n",
       " (14775, 'USC00519281', '2017-02-06', 0.18, 75.0),\n",
       " (14776, 'USC00519281', '2017-02-07', 1.32, 64.0),\n",
       " (14777, 'USC00519281', '2017-02-08', 0.0, 59.0),\n",
       " (14778, 'USC00519281', '2017-02-09', 0.0, 59.0),\n",
       " (14779, 'USC00519281', '2017-02-10', 0.0, 62.0),\n",
       " (14780, 'USC00519281', '2017-02-11', 1.73, 68.0),\n",
       " (14781, 'USC00519281', '2017-02-12', 2.98, 70.0),\n",
       " (14782, 'USC00519281', '2017-02-13', 0.01, 73.0),\n",
       " (14783, 'USC00519281', '2017-02-14', 0.0, 79.0),\n",
       " (14784, 'USC00519281', '2017-02-15', 0.01, 75.0),\n",
       " (14785, 'USC00519281', '2017-02-16', 0.73, 65.0),\n",
       " (14786, 'USC00519281', '2017-02-17', 0.13, 70.0),\n",
       " (14787, 'USC00519281', '2017-02-18', 0.0, 74.0),\n",
       " (14788, 'USC00519281', '2017-02-19', 0.09, 70.0),\n",
       " (14789, 'USC00519281', '2017-02-20', 0.0, 70.0),\n",
       " (14790, 'USC00519281', '2017-02-21', 0.0, 71.0),\n",
       " (14791, 'USC00519281', '2017-02-22', 0.06, 71.0),\n",
       " (14792, 'USC00519281', '2017-02-23', 0.0, 71.0),\n",
       " (14793, 'USC00519281', '2017-02-24', 0.0, 69.0),\n",
       " (14794, 'USC00519281', '2017-02-25', 0.0, 61.0),\n",
       " (14795, 'USC00519281', '2017-02-26', 0.0, 67.0),\n",
       " (14796, 'USC00519281', '2017-02-27', 0.0, 65.0),\n",
       " (14797, 'USC00519281', '2017-02-28', 0.04, 72.0),\n",
       " (14798, 'USC00519281', '2017-03-01', 2.12, 71.0),\n",
       " (14799, 'USC00519281', '2017-03-02', 1.88, 73.0),\n",
       " (14800, 'USC00519281', '2017-03-03', 0.27, 72.0),\n",
       " (14801, 'USC00519281', '2017-03-04', 0.0, 77.0),\n",
       " (14802, 'USC00519281', '2017-03-05', 0.41, 73.0),\n",
       " (14803, 'USC00519281', '2017-03-06', 0.03, 67.0),\n",
       " (14804, 'USC00519281', '2017-03-07', 0.0, 62.0),\n",
       " (14805, 'USC00519281', '2017-03-08', 0.0, 64.0),\n",
       " (14806, 'USC00519281', '2017-03-09', 0.65, 67.0),\n",
       " (14807, 'USC00519281', '2017-03-10', 0.03, 66.0),\n",
       " (14808, 'USC00519281', '2017-03-11', 0.01, 81.0),\n",
       " (14809, 'USC00519281', '2017-03-12', 0.0, 69.0),\n",
       " (14810, 'USC00519281', '2017-03-13', 0.0, 66.0),\n",
       " (14811, 'USC00519281', '2017-03-14', 0.0, 67.0),\n",
       " (14812, 'USC00519281', '2017-03-15', 0.06, 69.0),\n",
       " (14813, 'USC00519281', '2017-03-16', 0.0, 66.0),\n",
       " (14814, 'USC00519281', '2017-03-17', 0.12, 68.0),\n",
       " (14815, 'USC00519281', '2017-03-18', 0.0, 65.0),\n",
       " (14816, 'USC00519281', '2017-03-19', 0.0, 74.0),\n",
       " (14817, 'USC00519281', '2017-03-20', 0.02, 69.0),\n",
       " (14818, 'USC00519281', '2017-03-21', 0.09, 72.0),\n",
       " (14819, 'USC00519281', '2017-03-22', 0.0, 73.0),\n",
       " (14820, 'USC00519281', '2017-03-23', 0.0, 72.0),\n",
       " (14821, 'USC00519281', '2017-03-24', 0.12, 71.0),\n",
       " (14822, 'USC00519281', '2017-03-25', 0.93, 76.0),\n",
       " (14823, 'USC00519281', '2017-03-26', 0.0, 77.0),\n",
       " (14824, 'USC00519281', '2017-03-27', 0.01, 76.0),\n",
       " (14825, 'USC00519281', '2017-03-28', 0.0, 74.0),\n",
       " (14826, 'USC00519281', '2017-03-29', 0.01, 68.0),\n",
       " (14827, 'USC00519281', '2017-03-30', 0.04, 73.0),\n",
       " (14828, 'USC00519281', '2017-03-31', 0.01, 71.0),\n",
       " (14829, 'USC00519281', '2017-04-01', 0.21, 74.0),\n",
       " (14830, 'USC00519281', '2017-04-02', 0.0, 75.0),\n",
       " (14831, 'USC00519281', '2017-04-03', 0.26, 70.0),\n",
       " (14832, 'USC00519281', '2017-04-04', 0.09, 67.0),\n",
       " (14833, 'USC00519281', '2017-04-05', 0.1, 71.0),\n",
       " (14834, 'USC00519281', '2017-04-06', 0.06, 67.0),\n",
       " (14835, 'USC00519281', '2017-04-07', 0.0, 74.0),\n",
       " (14836, 'USC00519281', '2017-04-08', 0.0, 77.0),\n",
       " (14837, 'USC00519281', '2017-04-09', 0.0, 78.0),\n",
       " (14838, 'USC00519281', '2017-04-10', 0.01, 67.0),\n",
       " (14839, 'USC00519281', '2017-04-11', 0.03, 70.0),\n",
       " (14840, 'USC00519281', '2017-04-12', 0.11, 69.0),\n",
       " (14841, 'USC00519281', '2017-04-13', 0.59, 69.0),\n",
       " (14842, 'USC00519281', '2017-04-14', 2.3, 74.0),\n",
       " (14843, 'USC00519281', '2017-04-15', 0.38, 78.0),\n",
       " (14844, 'USC00519281', '2017-04-16', 0.47, 71.0),\n",
       " (14845, 'USC00519281', '2017-04-17', 1.04, 67.0),\n",
       " (14846, 'USC00519281', '2017-04-18', 2.03, 68.0),\n",
       " (14847, 'USC00519281', '2017-04-19', 0.02, 67.0),\n",
       " (14848, 'USC00519281', '2017-04-20', 0.05, 76.0),\n",
       " (14849, 'USC00519281', '2017-04-21', 1.74, 69.0),\n",
       " (14850, 'USC00519281', '2017-04-22', 1.58, 72.0),\n",
       " (14851, 'USC00519281', '2017-04-23', 0.06, 76.0),\n",
       " (14852, 'USC00519281', '2017-04-24', 0.01, 68.0),\n",
       " (14853, 'USC00519281', '2017-04-25', 0.0, 72.0),\n",
       " (14854, 'USC00519281', '2017-04-26', 0.02, 74.0),\n",
       " (14855, 'USC00519281', '2017-04-27', 0.19, 70.0),\n",
       " (14856, 'USC00519281', '2017-04-28', 0.76, 67.0),\n",
       " (14857, 'USC00519281', '2017-04-29', 0.37, 72.0),\n",
       " (14858, 'USC00519281', '2017-04-30', 1.04, 60.0),\n",
       " (14859, 'USC00519281', '2017-05-01', 0.13, 65.0),\n",
       " (14860, 'USC00519281', '2017-05-02', 0.01, 75.0),\n",
       " (14861, 'USC00519281', '2017-05-03', 0.01, 70.0),\n",
       " (14862, 'USC00519281', '2017-05-04', 0.0, 75.0),\n",
       " (14863, 'USC00519281', '2017-05-05', 0.0, 70.0),\n",
       " (14864, 'USC00519281', '2017-05-06', 0.0, 79.0),\n",
       " (14865, 'USC00519281', '2017-05-07', 0.02, 75.0),\n",
       " (14866, 'USC00519281', '2017-05-08', 0.73, 70.0),\n",
       " (14867, 'USC00519281', '2017-05-09', 1.58, 67.0),\n",
       " (14868, 'USC00519281', '2017-05-10', 0.2, 74.0),\n",
       " (14869, 'USC00519281', '2017-05-11', 0.12, 70.0),\n",
       " (14870, 'USC00519281', '2017-05-12', 0.02, 75.0),\n",
       " (14871, 'USC00519281', '2017-05-13', 0.12, 76.0),\n",
       " (14872, 'USC00519281', '2017-05-14', 0.17, 77.0),\n",
       " (14873, 'USC00519281', '2017-05-15', 0.09, 74.0),\n",
       " (14874, 'USC00519281', '2017-05-16', 0.03, 74.0),\n",
       " (14875, 'USC00519281', '2017-05-17', 0.07, 74.0),\n",
       " (14876, 'USC00519281', '2017-05-18', 0.13, 69.0),\n",
       " (14877, 'USC00519281', '2017-05-19', 0.01, 68.0),\n",
       " (14878, 'USC00519281', '2017-05-20', 0.02, 76.0),\n",
       " (14879, 'USC00519281', '2017-05-21', 0.01, 74.0),\n",
       " (14880, 'USC00519281', '2017-05-22', 0.06, 71.0),\n",
       " (14881, 'USC00519281', '2017-05-23', 0.06, 71.0),\n",
       " (14882, 'USC00519281', '2017-05-24', 0.3, 74.0),\n",
       " (14883, 'USC00519281', '2017-05-25', 0.2, 74.0),\n",
       " (14884, 'USC00519281', '2017-05-26', 0.0, 74.0),\n",
       " (14885, 'USC00519281', '2017-05-27', 0.0, 74.0),\n",
       " (14886, 'USC00519281', '2017-05-28', 0.08, 80.0),\n",
       " (14887, 'USC00519281', '2017-05-29', 0.4, 74.0),\n",
       " (14888, 'USC00519281', '2017-05-30', 1.12, 72.0),\n",
       " (14889, 'USC00519281', '2017-05-31', 0.25, 75.0),\n",
       " (14890, 'USC00519281', '2017-06-01', 0.0, 80.0),\n",
       " (14891, 'USC00519281', '2017-06-02', 0.09, 76.0),\n",
       " (14892, 'USC00519281', '2017-06-03', 0.08, 76.0),\n",
       " (14893, 'USC00519281', '2017-06-04', 0.13, 77.0),\n",
       " (14894, 'USC00519281', '2017-06-05', 0.05, 75.0),\n",
       " (14895, 'USC00519281', '2017-06-06', 0.0, 75.0),\n",
       " (14896, 'USC00519281', '2017-06-07', 0.0, 75.0),\n",
       " (14897, 'USC00519281', '2017-06-08', 0.0, 75.0),\n",
       " (14898, 'USC00519281', '2017-06-09', 0.02, 72.0),\n",
       " (14899, 'USC00519281', '2017-06-10', 0.62, 74.0),\n",
       " (14900, 'USC00519281', '2017-06-11', 0.74, 74.0),\n",
       " (14901, 'USC00519281', '2017-06-12', 0.24, 74.0),\n",
       " (14902, 'USC00519281', '2017-06-13', 0.24, 76.0),\n",
       " (14903, 'USC00519281', '2017-06-14', 0.22, 74.0),\n",
       " (14904, 'USC00519281', '2017-06-15', 0.55, 75.0),\n",
       " (14905, 'USC00519281', '2017-06-16', 0.06, 73.0),\n",
       " (14906, 'USC00519281', '2017-06-17', 0.07, 79.0),\n",
       " (14907, 'USC00519281', '2017-06-18', 0.24, 75.0),\n",
       " (14908, 'USC00519281', '2017-06-19', 0.08, 72.0),\n",
       " (14909, 'USC00519281', '2017-06-20', 0.0, 72.0),\n",
       " (14910, 'USC00519281', '2017-06-21', 0.19, 74.0),\n",
       " (14911, 'USC00519281', '2017-06-22', 0.06, 72.0),\n",
       " (14912, 'USC00519281', '2017-06-23', 0.12, 72.0),\n",
       " (14913, 'USC00519281', '2017-06-24', 0.36, 77.0),\n",
       " (14914, 'USC00519281', '2017-06-25', 0.02, 71.0),\n",
       " (14915, 'USC00519281', '2017-06-26', 0.06, 73.0),\n",
       " (14916, 'USC00519281', '2017-06-27', 0.01, 76.0),\n",
       " (14917, 'USC00519281', '2017-06-28', 0.0, 77.0),\n",
       " (14918, 'USC00519281', '2017-06-29', 0.0, 76.0),\n",
       " (14919, 'USC00519281', '2017-06-30', 0.01, 76.0),\n",
       " (14920, 'USC00519281', '2017-07-01', 0.08, 79.0),\n",
       " (14921, 'USC00519281', '2017-07-02', 0.15, 81.0),\n",
       " (14922, 'USC00519281', '2017-07-03', 0.15, 76.0),\n",
       " (14923, 'USC00519281', '2017-07-04', 0.08, 78.0),\n",
       " (14924, 'USC00519281', '2017-07-05', 0.0, 77.0),\n",
       " (14925, 'USC00519281', '2017-07-06', 0.0, 74.0),\n",
       " (14926, 'USC00519281', '2017-07-07', 0.18, 75.0),\n",
       " (14927, 'USC00519281', '2017-07-08', 0.0, 78.0),\n",
       " (14928, 'USC00519281', '2017-07-09', 0.11, 78.0),\n",
       " (14929, 'USC00519281', '2017-07-10', 0.02, 69.0),\n",
       " (14930, 'USC00519281', '2017-07-11', 0.02, 72.0),\n",
       " (14931, 'USC00519281', '2017-07-12', 0.28, 74.0),\n",
       " (14932, 'USC00519281', '2017-07-13', 0.32, 74.0),\n",
       " (14933, 'USC00519281', '2017-07-14', 0.2, 76.0),\n",
       " (14934, 'USC00519281', '2017-07-15', 0.05, 80.0),\n",
       " (14935, 'USC00519281', '2017-07-16', 0.1, 80.0),\n",
       " (14936, 'USC00519281', '2017-07-17', 0.21, 76.0),\n",
       " (14937, 'USC00519281', '2017-07-18', 0.05, 76.0),\n",
       " (14938, 'USC00519281', '2017-07-19', 0.05, 76.0),\n",
       " (14939, 'USC00519281', '2017-07-20', 0.06, 77.0),\n",
       " (14940, 'USC00519281', '2017-07-21', 0.03, 77.0),\n",
       " (14941, 'USC00519281', '2017-07-22', 0.2, 77.0),\n",
       " (14942, 'USC00519281', '2017-07-23', 0.2, 82.0),\n",
       " (14943, 'USC00519281', '2017-07-24', 0.61, 75.0),\n",
       " (14944, 'USC00519281', '2017-07-25', 0.11, 77.0),\n",
       " (14945, 'USC00519281', '2017-07-26', 0.12, 75.0),\n",
       " (14946, 'USC00519281', '2017-07-27', 0.01, 76.0),\n",
       " (14947, 'USC00519281', '2017-07-28', 0.09, 81.0),\n",
       " (14948, 'USC00519281', '2017-07-29', 0.23, 82.0),\n",
       " (14949, 'USC00519281', '2017-07-30', 0.0, 81.0),\n",
       " (14950, 'USC00519281', '2017-07-31', 0.0, 76.0),\n",
       " (14951, 'USC00519281', '2017-08-04', 0.0, 77.0),\n",
       " (14952, 'USC00519281', '2017-08-05', 0.06, 82.0),\n",
       " (14953, 'USC00519281', '2017-08-06', 0.0, 83.0),\n",
       " (14954, 'USC00519281', '2017-08-13', 0.0, 77.0),\n",
       " (14955, 'USC00519281', '2017-08-14', 0.0, 77.0),\n",
       " (14956, 'USC00519281', '2017-08-15', 0.32, 77.0),\n",
       " (14957, 'USC00519281', '2017-08-16', 0.12, 76.0),\n",
       " (14958, 'USC00519281', '2017-08-17', 0.01, 76.0),\n",
       " (14959, 'USC00519281', '2017-08-18', 0.06, 79.0)]"
      ]
     },
     "execution_count": 33,
     "metadata": {},
     "output_type": "execute_result"
    }
   ],
   "source": [
    "engine.execute('SELECT * FROM measurement where station=\"USC00519281\" and date > \"2016-08-17\"').fetchall()"
   ]
  },
  {
   "cell_type": "code",
   "execution_count": 34,
   "metadata": {},
   "outputs": [
    {
     "data": {
      "image/png": "[encoded data removed]",
      "text/plain": [
       "<Figure size 432x288 with 1 Axes>"
      ]
     },
     "metadata": {},
     "output_type": "display_data"
    }
   ],
   "source": [
    "# Choose the station with the highest number of temperature observations.\n",
    "# Query the last 12 months of temperature observation data for this station and plot the results as a histogram\n",
    "\n",
    "\n",
    "may_averages = session.query(Measurement.tobs).\\\n",
    "    filter(Measurement.station == \"USC00519281\").\\\n",
    "    filter(Measurement.date > \"2016-08-17\").all()\n",
    "df = pd.DataFrame(may_averages, columns=['tobs'])\n",
    "plt.hist(df.tobs)\n",
    "\n",
    "clt = []\n",
    "clt.append('tobs')\n",
    "plt.legend(clt, loc='upper right')\n",
    "plt.xlabel(\"Temperatures\")\n",
    "plt.ylabel(\"Number of counts\")\n",
    "plt.show()"
   ]
  },
  {
   "cell_type": "markdown",
   "metadata": {},
   "source": [
    "## Bonus Challenge Assignment"
   ]
  },
  {
   "cell_type": "code",
   "execution_count": 35,
   "metadata": {},
   "outputs": [
    {
     "name": "stdout",
     "output_type": "stream",
     "text": [
      "       station                                    name  minTemp  maxTemp  \\\n",
      "0  USC00519523      WAIMANALO EXPERIMENTAL FARM, HI US     68.0     73.0   \n",
      "1  USC00519397                    WAIKIKI 717.2, HI US     67.0     74.0   \n",
      "2  USC00519281                     WAIHEE 837.5, HI US     68.0     71.0   \n",
      "3  USC00516128            MANOA LYON ARBO 785.2, HI US     66.0     69.0   \n",
      "4  USC00513117                    KANEOHE 838.1, HI US     67.0     72.0   \n",
      "5  USC00511918       HONOLULU OBSERVATORY 702.2, HI US     66.0     74.0   \n",
      "6  USC00518838              UPPER WAHIAWA 874.3, HI US     65.0     74.0   \n",
      "7  USC00517948                       PEARL CITY, HI US     70.0     74.0   \n",
      "8  USC00514830  KUALOA RANCH HEADQUARTERS 886.9, HI US     69.0     71.0   \n",
      "\n",
      "     avgTemp  peakToPeak  \n",
      "0  72.000000         5.0  \n",
      "1  71.400000         7.0  \n",
      "2  69.800000         3.0  \n",
      "3  67.000000         3.0  \n",
      "4  70.200000         5.0  \n",
      "5  71.800000         8.0  \n",
      "6  68.750000         9.0  \n",
      "7  72.333333         4.0  \n",
      "8  70.000000         2.0  \n"
     ]
    }
   ],
   "source": [
    "# This function called `calc_temps` will accept start date and end date in the format '%Y-%m-%d' \n",
    "# and return the minimum, average, and maximum temperatures for that range of dates\n",
    "def calc_temps(start_date, end_date):\n",
    "    # Query all passengers\n",
    "    sel = [Measurement.station, \n",
    "       Station.name, \n",
    "       func.min(Measurement.tobs), \n",
    "       func.max(Measurement.tobs), \n",
    "       func.avg(Measurement.tobs)]\n",
    "\n",
    "    results = session.query(*sel).\\\n",
    "        filter(Measurement.station == Station.station).\\\n",
    "        filter(Measurement.date > start_date ).\\\n",
    "        filter(Measurement.date < end_date ).\\\n",
    "        group_by(Measurement.station).\\\n",
    "        order_by(func.count(1).desc()).all()\n",
    "\n",
    "    session.close()\n",
    "    # Create a dictionary from the row data and append to a list of all_passengers\n",
    "    all_temp = []\n",
    "    for station, name, minTemp, maxTemp, avgTemp in results:\n",
    "        temp_dict = {}\n",
    "        temp_dict[\"station\"] = station\n",
    "        temp_dict[\"name\"] = name\n",
    "        temp_dict[\"minTemp\"] = minTemp\n",
    "        temp_dict[\"maxTemp\"] = maxTemp\n",
    "        temp_dict[\"avgTemp\"] = avgTemp\n",
    "        temp_dict[\"peakToPeak\"] = maxTemp-minTemp\n",
    "        all_temp.append(temp_dict)\n",
    "\n",
    "    # Convert list of tuples into normal list\n",
    "    #all_dates = list(np.ravel(results))\n",
    "    df = pd.DataFrame(all_temp)\n",
    "    return df\n",
    "    \n",
    "#    return session.query(func.min(Measurement.tobs), func.avg(Measurement.tobs), func.max(Measurement.tobs)).\\\n",
    "#        filter(Measurement.date >= start_date).filter(Measurement.date <= end_date).all()\n",
    "\n",
    "# function usage example\n",
    "print(calc_temps('2012-02-28', '2012-03-05'))"
   ]
  },
  {
   "cell_type": "code",
   "execution_count": 36,
   "metadata": {},
   "outputs": [
    {
     "name": "stdout",
     "output_type": "stream",
     "text": [
      "       station                                    name  minTemp  maxTemp  \\\n",
      "0  USC00519397                    WAIKIKI 717.2, HI US     60.0     87.0   \n",
      "1  USC00516128            MANOA LYON ARBO 785.2, HI US     58.0     82.0   \n",
      "2  USC00519281                     WAIHEE 837.5, HI US     59.0     83.0   \n",
      "3  USC00513117                    KANEOHE 838.1, HI US     61.0     82.0   \n",
      "4  USC00519523      WAIMANALO EXPERIMENTAL FARM, HI US     60.0     85.0   \n",
      "5  USC00514830  KUALOA RANCH HEADQUARTERS 886.9, HI US     63.0     83.0   \n",
      "6  USC00517948                       PEARL CITY, HI US     62.0     87.0   \n",
      "\n",
      "     avgTemp  peakToPeak  \n",
      "0  74.982533        27.0  \n",
      "1  72.063348        24.0  \n",
      "2  72.145455        24.0  \n",
      "3  72.516588        21.0  \n",
      "4  76.741627        25.0  \n",
      "5  76.958763        20.0  \n",
      "6  74.056075        25.0  \n"
     ]
    }
   ],
   "source": [
    "# Use your previous function `calc_temps` to calculate the tmin, tavg, and tmax \n",
    "# for your trip using the previous year's data for those same dates.\n",
    "print(calc_temps('2017-01-01', '2018-01-01'))"
   ]
  },
  {
   "cell_type": "code",
   "execution_count": 52,
   "metadata": {},
   "outputs": [
    {
     "data": {
      "text/plain": [
       "Text(0.5, 0, ' station')"
      ]
     },
     "execution_count": 52,
     "metadata": {},
     "output_type": "execute_result"
    },
    {
     "data": {
      "image/png": "[encoded data removed]",
      "text/plain": [
       "<Figure size 432x288 with 1 Axes>"
      ]
     },
     "metadata": {},
     "output_type": "display_data"
    }
   ],
   "source": [
    "# Plot the results from your previous query as a bar chart. \n",
    "# Use \"Trip Avg Temp\" as your Title\n",
    "# Use the average temperature for the y value\n",
    "# Use the peak-to-peak (tmax-tmin) value as the y error bar (yerr)\n",
    "dtt = calc_temps('2017-01-01', '2018-01-01')\n",
    "errors = dtt['peakToPeak']\n",
    "dtta=dtt['avgTemp']\n",
    "dtts=dtt['station']\n",
    "fig, ax = plt.subplots()\n",
    "dtta.plot.bar(yerr=errors, ax=ax)\n",
    "plt.xticks(range(0, len(dtts)), dtts, rotation=\"90\")\n",
    "plt.title(\" Trip Avg Temp\")\n",
    "plt.ylabel(\" Average Temperature\")\n",
    "plt.xlabel(\" station\")"
   ]
  },
  {
   "cell_type": "code",
   "execution_count": 45,
   "metadata": {},
   "outputs": [
    {
     "data": {
      "text/html": [
       "<div>\n",
       "<style scoped>\n",
       "    .dataframe tbody tr th:only-of-type {\n",
       "        vertical-align: middle;\n",
       "    }\n",
       "\n",
       "    .dataframe tbody tr th {\n",
       "        vertical-align: top;\n",
       "    }\n",
       "\n",
       "    .dataframe thead th {\n",
       "        text-align: right;\n",
       "    }\n",
       "</style>\n",
       "<table border=\"1\" class=\"dataframe\">\n",
       "  <thead>\n",
       "    <tr style=\"text-align: right;\">\n",
       "      <th></th>\n",
       "      <th>station</th>\n",
       "      <th>name</th>\n",
       "      <th>latitude</th>\n",
       "      <th>longitude</th>\n",
       "      <th>elevation</th>\n",
       "      <th>total_precipitation</th>\n",
       "    </tr>\n",
       "  </thead>\n",
       "  <tbody>\n",
       "    <tr>\n",
       "      <th>0</th>\n",
       "      <td>USC00516128</td>\n",
       "      <td>MANOA LYON ARBO 785.2, HI US</td>\n",
       "      <td>21.33310</td>\n",
       "      <td>-157.80250</td>\n",
       "      <td>152.4</td>\n",
       "      <td>68.75</td>\n",
       "    </tr>\n",
       "    <tr>\n",
       "      <th>1</th>\n",
       "      <td>USC00519281</td>\n",
       "      <td>WAIHEE 837.5, HI US</td>\n",
       "      <td>21.45167</td>\n",
       "      <td>-157.84889</td>\n",
       "      <td>32.9</td>\n",
       "      <td>43.63</td>\n",
       "    </tr>\n",
       "    <tr>\n",
       "      <th>2</th>\n",
       "      <td>USC00513117</td>\n",
       "      <td>KANEOHE 838.1, HI US</td>\n",
       "      <td>21.42340</td>\n",
       "      <td>-157.80150</td>\n",
       "      <td>14.6</td>\n",
       "      <td>34.33</td>\n",
       "    </tr>\n",
       "    <tr>\n",
       "      <th>3</th>\n",
       "      <td>USC00519523</td>\n",
       "      <td>WAIMANALO EXPERIMENTAL FARM, HI US</td>\n",
       "      <td>21.33556</td>\n",
       "      <td>-157.71139</td>\n",
       "      <td>19.5</td>\n",
       "      <td>27.32</td>\n",
       "    </tr>\n",
       "    <tr>\n",
       "      <th>4</th>\n",
       "      <td>USC00514830</td>\n",
       "      <td>KUALOA RANCH HEADQUARTERS 886.9, HI US</td>\n",
       "      <td>21.52130</td>\n",
       "      <td>-157.83740</td>\n",
       "      <td>7.0</td>\n",
       "      <td>21.80</td>\n",
       "    </tr>\n",
       "    <tr>\n",
       "      <th>5</th>\n",
       "      <td>USC00519397</td>\n",
       "      <td>WAIKIKI 717.2, HI US</td>\n",
       "      <td>21.27160</td>\n",
       "      <td>-157.81680</td>\n",
       "      <td>3.0</td>\n",
       "      <td>10.66</td>\n",
       "    </tr>\n",
       "    <tr>\n",
       "      <th>6</th>\n",
       "      <td>USC00517948</td>\n",
       "      <td>PEARL CITY, HI US</td>\n",
       "      <td>21.39340</td>\n",
       "      <td>-157.97510</td>\n",
       "      <td>11.9</td>\n",
       "      <td>3.39</td>\n",
       "    </tr>\n",
       "  </tbody>\n",
       "</table>\n",
       "</div>"
      ],
      "text/plain": [
       "       station                                    name  latitude  longitude  \\\n",
       "0  USC00516128            MANOA LYON ARBO 785.2, HI US  21.33310 -157.80250   \n",
       "1  USC00519281                     WAIHEE 837.5, HI US  21.45167 -157.84889   \n",
       "2  USC00513117                    KANEOHE 838.1, HI US  21.42340 -157.80150   \n",
       "3  USC00519523      WAIMANALO EXPERIMENTAL FARM, HI US  21.33556 -157.71139   \n",
       "4  USC00514830  KUALOA RANCH HEADQUARTERS 886.9, HI US  21.52130 -157.83740   \n",
       "5  USC00519397                    WAIKIKI 717.2, HI US  21.27160 -157.81680   \n",
       "6  USC00517948                       PEARL CITY, HI US  21.39340 -157.97510   \n",
       "\n",
       "   elevation  total_precipitation  \n",
       "0      152.4                68.75  \n",
       "1       32.9                43.63  \n",
       "2       14.6                34.33  \n",
       "3       19.5                27.32  \n",
       "4        7.0                21.80  \n",
       "5        3.0                10.66  \n",
       "6       11.9                 3.39  "
      ]
     },
     "execution_count": 45,
     "metadata": {},
     "output_type": "execute_result"
    }
   ],
   "source": [
    "# Calculate the total amount of rainfall per weather station for your trip dates using the previous year's matching dates.\n",
    "# Sort this in descending order by precipitation amount and list the station, name, latitude, longitude, and elevation\n",
    "\n",
    "sel = [Measurement.station, \n",
    "   Station.name, \n",
    "   Station.latitude, \n",
    "   Station.longitude, \n",
    "   Station.elevation, \n",
    "   func.sum(Measurement.prcp)]\n",
    "\n",
    "results = session.query(*sel).\\\n",
    "    filter(Measurement.station == Station.station).\\\n",
    "    filter(Measurement.date > '2017-01-01' ).\\\n",
    "    filter(Measurement.date < '2018-01-01' ).\\\n",
    "    group_by(Measurement.station).\\\n",
    "    order_by(func.sum(Measurement.prcp).desc()).all()\n",
    "\n",
    "dfprcp = pd.DataFrame(results,columns=['station','name','latitude','longitude','elevation','total_precipitation'])\n",
    "dfprcp"
   ]
  },
  {
   "cell_type": "code",
   "execution_count": 51,
   "metadata": {},
   "outputs": [
    {
     "data": {
      "text/plain": [
       "[('USC00516128', 'MANOA LYON ARBO 785.2, HI US', 21.3331, -157.8025, 152.4, 68.75000000000003),\n",
       " ('USC00519281', 'WAIHEE 837.5, HI US', 21.45167, -157.84888999999998, 32.9, 43.63000000000002),\n",
       " ('USC00513117', 'KANEOHE 838.1, HI US', 21.4234, -157.8015, 14.6, 34.33000000000002),\n",
       " ('USC00519523', 'WAIMANALO EXPERIMENTAL FARM, HI US', 21.33556, -157.71139, 19.5, 27.319999999999993),\n",
       " ('USC00514830', 'KUALOA RANCH HEADQUARTERS 886.9, HI US', 21.5213, -157.8374, 7.0, 21.80000000000002),\n",
       " ('USC00519397', 'WAIKIKI 717.2, HI US', 21.2716, -157.8168, 3.0, 10.659999999999993),\n",
       " ('USC00517948', 'PEARL CITY, HI US', 21.3934, -157.9751, 11.9, 3.39)]"
      ]
     },
     "execution_count": 51,
     "metadata": {},
     "output_type": "execute_result"
    }
   ],
   "source": [
    "engine.execute('SELECT ms.station, st.name, st.latitude, st.longitude, st.elevation, sum(ms.prcp) FROM  measurement ms, station st where ms.station=st.station and ms.date > \"2017-01-01\" and ms.date < \"2018-01-01\" group by ms.station order by 6 desc').fetchall()"
   ]
  },
  {
   "cell_type": "code",
   "execution_count": 54,
   "metadata": {},
   "outputs": [
    {
     "data": {
      "text/html": [
       "<div>\n",
       "<style scoped>\n",
       "    .dataframe tbody tr th:only-of-type {\n",
       "        vertical-align: middle;\n",
       "    }\n",
       "\n",
       "    .dataframe tbody tr th {\n",
       "        vertical-align: top;\n",
       "    }\n",
       "\n",
       "    .dataframe thead th {\n",
       "        text-align: right;\n",
       "    }\n",
       "</style>\n",
       "<table border=\"1\" class=\"dataframe\">\n",
       "  <thead>\n",
       "    <tr style=\"text-align: right;\">\n",
       "      <th></th>\n",
       "      <th>tmin</th>\n",
       "      <th>tmax</th>\n",
       "      <th>tavg</th>\n",
       "    </tr>\n",
       "  </thead>\n",
       "  <tbody>\n",
       "    <tr>\n",
       "      <th>0</th>\n",
       "      <td>62.0</td>\n",
       "      <td>69.153846</td>\n",
       "      <td>77.0</td>\n",
       "    </tr>\n",
       "  </tbody>\n",
       "</table>\n",
       "</div>"
      ],
      "text/plain": [
       "   tmin       tmax  tavg\n",
       "0  62.0  69.153846  77.0"
      ]
     },
     "execution_count": 54,
     "metadata": {},
     "output_type": "execute_result"
    }
   ],
   "source": [
    "# Create a query that will calculate the daily normals \n",
    "# (i.e. the averages for tmin, tmax, and tavg for all historic data matching a specific month and day)\n",
    "\n",
    "def daily_normals(date):\n",
    "    \"\"\"Daily Normals.\n",
    "    \n",
    "    Args:\n",
    "        date (str): A date string in the format '%m-%d'\n",
    "        \n",
    "    Returns:\n",
    "        A list of tuples containing the daily normals, tmin, tavg, and tmax\n",
    "    \n",
    "    \"\"\"\n",
    "    \n",
    "    sel = [func.min(Measurement.tobs), func.avg(Measurement.tobs), func.max(Measurement.tobs)]\n",
    "    return session.query(*sel).filter(func.strftime(\"%m-%d\", Measurement.date) == date).all()\n",
    "    \n",
    "#daily_normals(\"01-01\")\n",
    "dfprcp = pd.DataFrame(daily_normals(\"01-01\"),columns=['tmin','tmax','tavg'])\n",
    "dfprcp"
   ]
  },
  {
   "cell_type": "code",
   "execution_count": 121,
   "metadata": {},
   "outputs": [
    {
     "data": {
      "text/plain": [
       "([<matplotlib.axis.XTick at 0x2d5a31bd640>,\n",
       "  <matplotlib.axis.XTick at 0x2d5a31bd610>,\n",
       "  <matplotlib.axis.XTick at 0x2d5a31d7970>,\n",
       "  <matplotlib.axis.XTick at 0x2d5a31f81f0>,\n",
       "  <matplotlib.axis.XTick at 0x2d5a31f8700>,\n",
       "  <matplotlib.axis.XTick at 0x2d5a31f8c10>],\n",
       " [Text(0, 0, '2017-01-01'),\n",
       "  Text(0, 0, '2017-01-02'),\n",
       "  Text(0, 0, '2017-01-03'),\n",
       "  Text(0, 0, '2017-01-04'),\n",
       "  Text(0, 0, '2017-01-05'),\n",
       "  Text(0, 0, '2017-01-06')])"
      ]
     },
     "execution_count": 121,
     "metadata": {},
     "output_type": "execute_result"
    },
    {
     "data": {
      "image/png": "[encoded data removed]",
      "text/plain": [
       "<Figure size 432x288 with 1 Axes>"
      ]
     },
     "metadata": {},
     "output_type": "display_data"
    }
   ],
   "source": [
    "# calculate the daily normals for your trip\n",
    "# push each tuple of calculations into a list called `normals`\n",
    "\n",
    "# Set the start and end date of the trip\n",
    "\n",
    "# Use the start and end date to create a range of dates\n",
    "\n",
    "# Stip off the year and save a list of %m-%d strings\n",
    "\n",
    "# Loop through the list of %m-%d strings and calculate the normals for each date\n",
    "\n",
    "trip_dt =['2017-01-01','2017-01-02','2017-01-03','2017-01-04','2017-01-05','2017-01-06','2017-01-07']\n",
    "\n",
    "tmin = []\n",
    "tmax = []\n",
    "tavg = []\n",
    "\n",
    "for x in trip_dt:\n",
    "    data_rain = daily_normals(x.replace('2017-',''))\n",
    "    tmin.append(data_rain[0][0])\n",
    "    tmax.append(data_rain[0][1])\n",
    "    tavg.append(data_rain[0][2])\n",
    "#    print(func.strftime(\"%m-%d\", x))\n",
    "#    print(x.replace('2017-',''))\n",
    "\n",
    "df = pd.DataFrame({\n",
    "    'tmin': tmin,\n",
    "    'tmax': tmax,\n",
    "    'tavg': tavg,\n",
    "})\n",
    "ax = df.plot.area( stacked=False)  \n",
    "plt.xlabel(\" Date\")\n",
    "plt.ylabel(\"Temperature\")\n",
    "plt.xticks(range(0, len(trip_dt)-1), trip_dt, rotation=\"vertical\")"
   ]
  },
  {
   "cell_type": "code",
   "execution_count": null,
   "metadata": {},
   "outputs": [],
   "source": [
    "# Load the previous query results into a Pandas DataFrame and add the `trip_dates` range as the `date` index\n"
   ]
  },
  {
   "cell_type": "code",
   "execution_count": 122,
   "metadata": {},
   "outputs": [
    {
     "data": {
      "text/plain": [
       "Text(0, 0.5, 'Temperature')"
      ]
     },
     "execution_count": 122,
     "metadata": {},
     "output_type": "execute_result"
    },
    {
     "data": {
      "image/png": "[encoded data removed]",
      "text/plain": [
       "<Figure size 432x288 with 1 Axes>"
      ]
     },
     "metadata": {},
     "output_type": "display_data"
    }
   ],
   "source": [
    "# Plot the daily normals as an area plot with `stacked=False`\n",
    "trip_dt =['2017-01-01','2017-01-02','2017-01-03','2017-01-04','2017-01-05','2017-01-06','2017-01-07']\n",
    "\n",
    "tmin = []\n",
    "tmax = []\n",
    "tavg = []\n",
    "\n",
    "for x in trip_dt:\n",
    "    data_rain = daily_normals(x.replace('2017-',''))\n",
    "    tmin.append(data_rain[0][0])\n",
    "    tmax.append(data_rain[0][1])\n",
    "    tavg.append(data_rain[0][2])\n",
    "#    print(func.strftime(\"%m-%d\", x))\n",
    "#    print(x.replace('2017-',''))\n",
    "\n",
    "df = pd.DataFrame({\n",
    "    'tmin': tmin,\n",
    "    'tmax': tmax,\n",
    "    'tavg': tavg,\n",
    "}, index=pd.date_range(start='2017/01/01', end='2017/01/07',freq='D'))\n",
    "ax = df.plot.area( stacked=False)  \n",
    "plt.xlabel(\" Date\")\n",
    "plt.ylabel(\"Temperature\")\n",
    "#plt.xticks(range(0, len(trip_dt)-1), trip_dt, rotation=\"vertical\")"
   ]
  },
  {
   "cell_type": "code",
   "execution_count": null,
   "metadata": {},
   "outputs": [],
   "source": []
  }
 ],
 "metadata": {
  "kernel_info": {
   "name": "python3"
  },
  "kernelspec": {
   "display_name": "Python 3",
   "language": "python",
   "name": "python3"
  },
  "language_info": {
   "codemirror_mode": {
    "name": "ipython",
    "version": 3
   },
   "file_extension": ".py",
   "mimetype": "text/x-python",
   "name": "python",
   "nbconvert_exporter": "python",
   "pygments_lexer": "ipython3",
   "version": "3.8.3"
  },
  "nteract": {
   "version": "0.12.3"
  },
  "varInspector": {
   "cols": {
    "lenName": 16,
    "lenType": 16,
    "lenVar": 40
   },
   "kernels_config": {
    "python": {
     "delete_cmd_postfix": "",
     "delete_cmd_prefix": "del ",
     "library": "var_list.py",
     "varRefreshCmd": "print(var_dic_list())"
    },
    "r": {
     "delete_cmd_postfix": ") ",
     "delete_cmd_prefix": "rm(",
     "library": "var_list.r",
     "varRefreshCmd": "cat(var_dic_list()) "
    }
   },
   "types_to_exclude": [
    "module",
    "function",
    "builtin_function_or_method",
    "instance",
    "_Feature"
   ],
   "window_display": false
  }
 },
 "nbformat": 4,
 "nbformat_minor": 2
}
